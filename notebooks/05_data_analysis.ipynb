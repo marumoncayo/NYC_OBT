{
 "cells": [
  {
   "cell_type": "code",
   "execution_count": 1,
   "id": "ce5a8769-e36c-4958-9ad6-db0c3c31a35f",
   "metadata": {},
   "outputs": [
    {
     "name": "stdout",
     "output_type": "stream",
     "text": [
      " Imports completados\n"
     ]
    }
   ],
   "source": [
    "import os\n",
    "import sys\n",
    "from datetime import datetime\n",
    "from pyspark.sql import SparkSession\n",
    "from pyspark.sql.functions import *\n",
    "from pyspark.sql.types import *\n",
    "from pyspark.sql.window import Window\n",
    "\n",
    "print(\" Imports completados\")"
   ]
  },
  {
   "cell_type": "code",
   "execution_count": 2,
   "id": "b3a0c049-f18e-48e0-b46a-afa7c1ae8bfd",
   "metadata": {},
   "outputs": [
    {
     "name": "stdout",
     "output_type": "stream",
     "text": [
      "ANÁLISIS DE DATOS - PREGUNTAS DE NEGOCIO\n"
     ]
    }
   ],
   "source": [
    "SNOWFLAKE_ACCOUNT = os.getenv('SNOWFLAKE_ACCOUNT')\n",
    "SNOWFLAKE_USER = os.getenv('SNOWFLAKE_USER')\n",
    "SNOWFLAKE_PASSWORD = os.getenv('SNOWFLAKE_PASSWORD')\n",
    "SNOWFLAKE_ROLE = os.getenv('SNOWFLAKE_ROLE', 'ACCOUNTADMIN')\n",
    "SNOWFLAKE_DATABASE = os.getenv('SNOWFLAKE_DATABASE')\n",
    "SNOWFLAKE_WAREHOUSE = os.getenv('SNOWFLAKE_WAREHOUSE')\n",
    "SNOWFLAKE_SCHEMA_ANALYTICS = os.getenv('SNOWFLAKE_SCHEMA_ANALYTICS', 'ANALYTICS')\n",
    "\n",
    "\n",
    "print(\"ANÁLISIS DE DATOS - PREGUNTAS DE NEGOCIO\")\n"
   ]
  },
  {
   "cell_type": "code",
   "execution_count": 3,
   "id": "09ec8f37-23eb-4ce3-8ff2-c94caa31de36",
   "metadata": {},
   "outputs": [
    {
     "name": "stdout",
     "output_type": "stream",
     "text": [
      "\n",
      " Inicializando Spark...\n",
      " Spark 3.5.0 inicializado\n"
     ]
    }
   ],
   "source": [
    "print(\"\\n Inicializando Spark...\")\n",
    "\n",
    "spark = SparkSession.builder \\\n",
    "    .appName(\"NYC_TLC_Data_Analysis\") \\\n",
    "    .config(\"spark.jars.packages\", \n",
    "            \"net.snowflake:spark-snowflake_2.12:2.11.0-spark_3.3,\"\n",
    "            \"net.snowflake:snowflake-jdbc:3.13.30\") \\\n",
    "    .getOrCreate()\n",
    "\n",
    "spark.sparkContext.setLogLevel(\"WARN\")\n",
    "print(f\" Spark {spark.version} inicializado\")"
   ]
  },
  {
   "cell_type": "code",
   "execution_count": 4,
   "id": "3b97ad8b-e38b-44c4-a477-cb276a879364",
   "metadata": {},
   "outputs": [
    {
     "name": "stdout",
     "output_type": "stream",
     "text": [
      " Configuración establecida\n"
     ]
    }
   ],
   "source": [
    "sfOptions = {\n",
    "    \"sfURL\": f\"{SNOWFLAKE_ACCOUNT}.snowflakecomputing.com\",\n",
    "    \"sfUser\": SNOWFLAKE_USER,\n",
    "    \"sfPassword\": SNOWFLAKE_PASSWORD,\n",
    "    \"sfDatabase\": SNOWFLAKE_DATABASE,\n",
    "    \"sfSchema\": SNOWFLAKE_SCHEMA_ANALYTICS,\n",
    "    \"sfWarehouse\": SNOWFLAKE_WAREHOUSE,\n",
    "    \"sfRole\": SNOWFLAKE_ROLE\n",
    "}\n",
    "\n",
    "print(\" Configuración establecida\")"
   ]
  },
  {
   "cell_type": "code",
   "execution_count": 6,
   "id": "3da6a86e-a1ba-47a4-a1eb-19401316bcaf",
   "metadata": {},
   "outputs": [
    {
     "name": "stdout",
     "output_type": "stream",
     "text": [
      "\n",
      " Cargando OBT_TRIPS...\n",
      " OBT cargada: 837,099,213 registros\n"
     ]
    }
   ],
   "source": [
    "print(\"\\n Cargando OBT_TRIPS...\")\n",
    "\n",
    "obt = spark.read \\\n",
    "    .format(\"snowflake\") \\\n",
    "    .options(**sfOptions) \\\n",
    "    .option(\"dbtable\", \"OBT_TRIPS\") \\\n",
    "    .load()\n",
    "\n",
    "print(f\" OBT cargada: {obt.count():,} registros\")\n"
   ]
  },
  {
   "cell_type": "code",
   "execution_count": 7,
   "id": "587d4ffc-9ca1-430d-8a1c-be6d0014efc3",
   "metadata": {
    "scrolled": true
   },
   "outputs": [
    {
     "name": "stdout",
     "output_type": "stream",
     "text": [
      "PREGUNTA 1: Top 10 zonas de pickup por volumen mensual\n",
      "\n",
      " Top 10 zonas de pickup con más viajes:\n",
      "+---------------------+----+-----+------------+\n",
      "|pu_zone              |year|month|total_viajes|\n",
      "+---------------------+----+-----+------------+\n",
      "|Upper East Side South|2015|4    |497024      |\n",
      "|Upper East Side South|2015|5    |483931      |\n",
      "|Upper East Side South|2015|3    |472809      |\n",
      "|Upper East Side South|2015|10   |467922      |\n",
      "|Upper East Side South|2015|1    |466551      |\n",
      "|Upper East Side South|2016|5    |464800      |\n",
      "|Midtown Center       |2015|3    |463430      |\n",
      "|Midtown Center       |2015|4    |460102      |\n",
      "|Upper East Side North|2015|4    |457471      |\n",
      "|Midtown Center       |2016|3    |457249      |\n",
      "+---------------------+----+-----+------------+\n",
      "only showing top 10 rows\n",
      "\n"
     ]
    }
   ],
   "source": [
    "print(\"PREGUNTA 1: Top 10 zonas de pickup por volumen mensual\")\n",
    "\n",
    "q1 = obt.groupBy(\"pu_zone\", \"year\", \"month\").agg(\n",
    "    count(\"*\").alias(\"total_viajes\")\n",
    ").orderBy(col(\"total_viajes\").desc())\n",
    "\n",
    "print(\"\\n Top 10 zonas de pickup con más viajes:\")\n",
    "q1.show(10, truncate=False)\n",
    "\n",
    "\n"
   ]
  },
  {
   "cell_type": "code",
   "execution_count": 8,
   "id": "c05f0466-80d6-4ac9-b2c8-937fdcf1a5ef",
   "metadata": {},
   "outputs": [
    {
     "name": "stdout",
     "output_type": "stream",
     "text": [
      "PREGUNTA 2: Top 10 zonas de dropoff por volumen mensual\n",
      "\n",
      " Top 10 zonas de dropoff con más viajes:\n",
      "+---------------------+----+-----+------------+\n",
      "|do_zone              |year|month|total_viajes|\n",
      "+---------------------+----+-----+------------+\n",
      "|Midtown Center       |2015|3    |506836      |\n",
      "|Midtown Center       |2015|4    |502304      |\n",
      "|Midtown Center       |2015|5    |480522      |\n",
      "|Midtown Center       |2015|6    |475046      |\n",
      "|Midtown Center       |2015|1    |472899      |\n",
      "|Upper East Side North|2015|4    |468546      |\n",
      "|Midtown Center       |2016|3    |467714      |\n",
      "|Upper East Side North|2015|5    |464654      |\n",
      "|Midtown Center       |2015|2    |462104      |\n",
      "|Midtown Center       |2015|10   |458016      |\n",
      "+---------------------+----+-----+------------+\n",
      "only showing top 10 rows\n",
      "\n"
     ]
    }
   ],
   "source": [
    "print(\"PREGUNTA 2: Top 10 zonas de dropoff por volumen mensual\")\n",
    "\n",
    "q2 = obt.groupBy(\"do_zone\", \"year\", \"month\").agg(\n",
    "    count(\"*\").alias(\"total_viajes\")\n",
    ").orderBy(col(\"total_viajes\").desc())\n",
    "\n",
    "print(\"\\n Top 10 zonas de dropoff con más viajes:\")\n",
    "q2.show(10, truncate=False)\n",
    "\n"
   ]
  },
  {
   "cell_type": "code",
   "execution_count": 9,
   "id": "221e12b3-098d-429d-89b1-6644703b7139",
   "metadata": {},
   "outputs": [
    {
     "name": "stdout",
     "output_type": "stream",
     "text": [
      "PREGUNTA 3: Evolución mensual de total_amount y tip_pct por borough\n",
      "\n",
      " Evolución por borough (últimos 12 meses de datos válidos):\n",
      "+-------------+----+-----+----------------+-----------+----------+\n",
      "|pu_borough   |year|month|avg_total_amount|avg_tip_pct|num_viajes|\n",
      "+-------------+----+-----+----------------+-----------+----------+\n",
      "|Manhattan    |2025|9    |20.06           |17.26      |16        |\n",
      "|Queens       |2025|9    |73.74           |11.15      |2         |\n",
      "|Manhattan    |2025|8    |23.02           |17.44      |2872561   |\n",
      "|Bronx        |2025|8    |28.75           |1.25       |32721     |\n",
      "|Unknown      |2025|8    |32.83           |20.28      |5344      |\n",
      "|Staten Island|2025|8    |45.8            |2.71       |344       |\n",
      "|Queens       |2025|8    |62.34           |12.71      |399280    |\n",
      "|Brooklyn     |2025|8    |25.72           |3.08       |171323    |\n",
      "|EWR          |2025|8    |97.78           |32.74      |548       |\n",
      "|N/A          |2025|8    |105.22          |20.58      |2114      |\n",
      "|Bronx        |2025|7    |29.41           |5.02       |35513     |\n",
      "|Brooklyn     |2025|7    |27.62           |5.88       |173975    |\n",
      "|Manhattan    |2025|7    |23.68           |17.31      |3192153   |\n",
      "|Unknown      |2025|7    |32.68           |20.44      |6055      |\n",
      "|Queens       |2025|7    |61.51           |12.44      |403632    |\n",
      "|Staten Island|2025|7    |39.72           |12.32      |358       |\n",
      "|N/A          |2025|7    |105.76          |16.05      |2111      |\n",
      "|EWR          |2025|7    |101.38          |2132.19    |476       |\n",
      "|Bronx        |2025|6    |30.67           |0.91       |36640     |\n",
      "|Brooklyn     |2025|6    |28.41           |2.38       |194670    |\n",
      "|Queens       |2025|6    |63.23           |20.67      |428278    |\n",
      "|Manhattan    |2025|6    |24.04           |17.38      |3559802   |\n",
      "|EWR          |2025|6    |92.78           |1080.14    |469       |\n",
      "|N/A          |2025|6    |106.02          |1565.3     |1877      |\n",
      "+-------------+----+-----+----------------+-----------+----------+\n",
      "only showing top 24 rows\n",
      "\n"
     ]
    }
   ],
   "source": [
    "\n",
    "print(\"PREGUNTA 3: Evolución mensual de total_amount y tip_pct por borough\")\n",
    "\n",
    "# Filtrar solo años válidos (2015-2025)\n",
    "q3 = obt.filter((col(\"year\") >= 2015) & (col(\"year\") <= 2025)) \\\n",
    "    .groupBy(\"pu_borough\", \"year\", \"month\").agg(\n",
    "        round(avg(\"total_amount\"), 2).alias(\"avg_total_amount\"),\n",
    "        round(avg(\"tip_pct\"), 2).alias(\"avg_tip_pct\"),\n",
    "        count(\"*\").alias(\"num_viajes\")\n",
    "    ).orderBy(\"year\", \"month\", \"pu_borough\")\n",
    "\n",
    "print(\"\\n Evolución por borough (últimos 12 meses de datos válidos):\")\n",
    "q3.orderBy(col(\"year\").desc(), col(\"month\").desc()).show(24, truncate=False)\n",
    "\n"
   ]
  },
  {
   "cell_type": "code",
   "execution_count": 10,
   "id": "f6797a38-93e9-4bc1-86b1-937f48f7f1e6",
   "metadata": {},
   "outputs": [
    {
     "name": "stdout",
     "output_type": "stream",
     "text": [
      "PREGUNTA 4: Ticket promedio (avg total_amount) por service_type y mes\n",
      "\n",
      " Ticket promedio por servicio (últimos 12 meses de datos válidos):\n",
      "+------------+----+-----+---------------+----------+\n",
      "|service_type|year|month|ticket_promedio|num_viajes|\n",
      "+------------+----+-----+---------------+----------+\n",
      "|green       |2025|9    |26.04          |17        |\n",
      "|yellow      |2025|9    |25.62          |1         |\n",
      "|yellow      |2025|8    |27.79          |3438133   |\n",
      "|green       |2025|8    |27.98          |46102     |\n",
      "|yellow      |2025|7    |28.01          |3766256   |\n",
      "|green       |2025|7    |25.79          |48017     |\n",
      "|yellow      |2025|6    |28.36          |4179896   |\n",
      "|green       |2025|6    |25.96          |48903     |\n",
      "|yellow      |2025|5    |28.15          |4414719   |\n",
      "|green       |2025|5    |25.52          |54879     |\n",
      "|yellow      |2025|4    |27.65          |3862911   |\n",
      "|green       |2025|4    |24.77          |51629     |\n",
      "|yellow      |2025|3    |27.18          |4054091   |\n",
      "|green       |2025|3    |24.13          |51001     |\n",
      "|yellow      |2025|2    |25.81          |3517043   |\n",
      "|green       |2025|2    |23.02          |46206     |\n",
      "|yellow      |2025|1    |26.32          |3410015   |\n",
      "|green       |2025|1    |22.74          |48078     |\n",
      "|yellow      |2024|12   |29.43          |3596556   |\n",
      "|green       |2024|12   |24.11          |53744     |\n",
      "|yellow      |2024|11   |28.5           |3583856   |\n",
      "|green       |2024|11   |24.28          |52005     |\n",
      "|green       |2024|10   |25.13          |55935     |\n",
      "|yellow      |2024|10   |29.36          |3771249   |\n",
      "+------------+----+-----+---------------+----------+\n",
      "only showing top 24 rows\n",
      "\n"
     ]
    }
   ],
   "source": [
    "print(\"PREGUNTA 4: Ticket promedio (avg total_amount) por service_type y mes\")\n",
    "\n",
    "\n",
    "\n",
    "q4 = obt.filter((col(\"year\") >= 2015) & (col(\"year\") <= 2025)) \\\n",
    "    .groupBy(\"service_type\", \"year\", \"month\").agg(\n",
    "        round(avg(\"total_amount\"), 2).alias(\"ticket_promedio\"),\n",
    "        count(\"*\").alias(\"num_viajes\")\n",
    "    ).orderBy(\"year\", \"month\", \"service_type\")\n",
    "\n",
    "print(\"\\n Ticket promedio por servicio (últimos 12 meses de datos válidos):\")\n",
    "q4.orderBy(col(\"year\").desc(), col(\"month\").desc()).show(24, truncate=False)\n",
    "\n",
    "\n"
   ]
  },
  {
   "cell_type": "code",
   "execution_count": 11,
   "id": "ef586302-b40f-44d9-89af-df7c35fb6dd8",
   "metadata": {},
   "outputs": [
    {
     "name": "stdout",
     "output_type": "stream",
     "text": [
      "PREGUNTA 5: Viajes por hora del día y día de semana (picos)\n",
      "\n",
      " Distribución por hora del día:\n",
      "+-----------+------------+\n",
      "|pickup_hour|total_viajes|\n",
      "+-----------+------------+\n",
      "|0          |27498217    |\n",
      "|1          |19638327    |\n",
      "|2          |14012385    |\n",
      "|3          |10092567    |\n",
      "|4          |7785011     |\n",
      "|5          |7783950     |\n",
      "|6          |16826641    |\n",
      "|7          |28943795    |\n",
      "|8          |36708840    |\n",
      "|9          |38143591    |\n",
      "|10         |38490034    |\n",
      "|11         |40361164    |\n",
      "|12         |42799662    |\n",
      "|13         |43305907    |\n",
      "|14         |45740630    |\n",
      "|15         |45737075    |\n",
      "|16         |43309881    |\n",
      "|17         |48859752    |\n",
      "|18         |54276654    |\n",
      "|19         |52009802    |\n",
      "|20         |47371097    |\n",
      "|21         |46630128    |\n",
      "|22         |44010436    |\n",
      "|23         |36763667    |\n",
      "+-----------+------------+\n",
      "\n",
      "\n",
      " Distribución por día de la semana:\n",
      "+-----------+------------+\n",
      "|day_of_week|total_viajes|\n",
      "+-----------+------------+\n",
      "|Friday     |128124162   |\n",
      "|Thursday   |126665260   |\n",
      "|Saturday   |126359126   |\n",
      "|Wednesday  |122460113   |\n",
      "|Tuesday    |117614350   |\n",
      "|Sunday     |108703301   |\n",
      "|Monday     |107172901   |\n",
      "+-----------+------------+\n",
      "\n"
     ]
    }
   ],
   "source": [
    "print(\"PREGUNTA 5: Viajes por hora del día y día de semana (picos)\")\n",
    "\n",
    "q5_hour = obt.groupBy(\"pickup_hour\").agg(\n",
    "    count(\"*\").alias(\"total_viajes\")\n",
    ").orderBy(\"pickup_hour\")\n",
    "\n",
    "print(\"\\n Distribución por hora del día:\")\n",
    "q5_hour.show(24, truncate=False)\n",
    "\n",
    "q5_dow = obt.groupBy(\"day_of_week\").agg(\n",
    "    count(\"*\").alias(\"total_viajes\")\n",
    ").orderBy(col(\"total_viajes\").desc())\n",
    "\n",
    "print(\"\\n Distribución por día de la semana:\")\n",
    "q5_dow.show(truncate=False)\n",
    "\n",
    "\n"
   ]
  },
  {
   "cell_type": "code",
   "execution_count": 12,
   "id": "1415d036-50e0-4a32-b4fa-6d2513d75188",
   "metadata": {},
   "outputs": [
    {
     "name": "stdout",
     "output_type": "stream",
     "text": [
      "PREGUNTA 6: Percentiles 50 y 90 de duración por borough de pickup\n",
      "\n",
      " Percentiles de duración por borough:\n",
      "+-------------+------------------+------------------+------------+----------+\n",
      "|pu_borough   |p50_duration      |p90_duration      |avg_duration|num_viajes|\n",
      "+-------------+------------------+------------------+------------+----------+\n",
      "|Bronx        |13.516666666666667|38.016666666666666|22.25       |5235996   |\n",
      "|Brooklyn     |13.0              |32.85             |21.42       |35006948  |\n",
      "|EWR          |0.3               |1.7166666666666666|4.87        |72111     |\n",
      "|Manhattan    |10.833333333333334|25.1              |15.38       |715675898 |\n",
      "|N/A          |1.1833333333333333|60.0              |20.74       |622691    |\n",
      "|Queens       |24.45             |54.4              |31.34       |70910644  |\n",
      "|Staten Island|23.2              |71.0              |34.79       |52825     |\n",
      "|Unknown      |10.6              |28.183333333333334|15.48       |9522100   |\n",
      "+-------------+------------------+------------------+------------+----------+\n",
      "\n"
     ]
    }
   ],
   "source": [
    "print(\"PREGUNTA 6: Percentiles 50 y 90 de duración por borough de pickup\")\n",
    "\n",
    "q6 = obt.groupBy(\"pu_borough\").agg(\n",
    "    expr(\"percentile_approx(trip_duration_min, 0.5)\").alias(\"p50_duration\"),\n",
    "    expr(\"percentile_approx(trip_duration_min, 0.9)\").alias(\"p90_duration\"),\n",
    "    round(avg(\"trip_duration_min\"), 2).alias(\"avg_duration\"),\n",
    "    count(\"*\").alias(\"num_viajes\")\n",
    ").orderBy(\"pu_borough\")\n",
    "\n",
    "print(\"\\n Percentiles de duración por borough:\")\n",
    "q6.show(truncate=False)\n",
    "\n"
   ]
  },
  {
   "cell_type": "code",
   "execution_count": 13,
   "id": "f3324c9b-9e1f-4064-95c7-1567fc7df824",
   "metadata": {},
   "outputs": [
    {
     "name": "stdout",
     "output_type": "stream",
     "text": [
      "PREGUNTA 7: Velocidad promedio por franja horaria y borough\n",
      "\n",
      " Velocidad promedio por franja horaria:\n",
      "+-------------+--------------------+---------+----------+\n",
      "|pu_borough   |franja_horaria      |avg_speed|num_viajes|\n",
      "+-------------+--------------------+---------+----------+\n",
      "|Bronx        |Evening Rush (17-20)|18.76    |772163    |\n",
      "|Bronx        |Morning Rush (6-9)  |21.36    |732797    |\n",
      "|Bronx        |Other               |22.62    |3452471   |\n",
      "|Brooklyn     |Evening Rush (17-20)|14.64    |5734307   |\n",
      "|Brooklyn     |Morning Rush (6-9)  |16.06    |3098783   |\n",
      "|Brooklyn     |Other               |17.04    |25526719  |\n",
      "|EWR          |Evening Rush (17-20)|776.43   |4357      |\n",
      "|EWR          |Morning Rush (6-9)  |757.18   |2727      |\n",
      "|EWR          |Other               |853.86   |14134     |\n",
      "|Manhattan    |Evening Rush (17-20)|10.38    |132534519 |\n",
      "|Manhattan    |Morning Rush (6-9)  |12.83    |70969056  |\n",
      "|Manhattan    |Other               |11.81    |507969750 |\n",
      "|N/A          |Evening Rush (17-20)|577.42   |63303     |\n",
      "|N/A          |Morning Rush (6-9)  |596.48   |45387     |\n",
      "|N/A          |Other               |635.24   |287806    |\n",
      "|Queens       |Evening Rush (17-20)|25.14    |12713140  |\n",
      "|Queens       |Morning Rush (6-9)  |25.4     |6084313   |\n",
      "|Queens       |Other               |27.15    |50493245  |\n",
      "|Staten Island|Evening Rush (17-20)|61.61    |6291      |\n",
      "|Staten Island|Morning Rush (6-9)  |40.44    |6618      |\n",
      "+-------------+--------------------+---------+----------+\n",
      "only showing top 20 rows\n",
      "\n"
     ]
    }
   ],
   "source": [
    "print(\"PREGUNTA 7: Velocidad promedio por franja horaria y borough\")\n",
    "\n",
    "q7 = obt.filter(col(\"avg_speed_mph\").isNotNull()) \\\n",
    "    .withColumn(\"franja_horaria\", \n",
    "        when((col(\"pickup_hour\") >= 6) & (col(\"pickup_hour\") < 9), \"Morning Rush (6-9)\")\n",
    "        .when((col(\"pickup_hour\") >= 17) & (col(\"pickup_hour\") < 20), \"Evening Rush (17-20)\")\n",
    "        .otherwise(\"Other\")) \\\n",
    "    .groupBy(\"pu_borough\", \"franja_horaria\").agg(\n",
    "        round(avg(\"avg_speed_mph\"), 2).alias(\"avg_speed\"),\n",
    "        count(\"*\").alias(\"num_viajes\")\n",
    "    ).orderBy(\"pu_borough\", \"franja_horaria\")\n",
    "\n",
    "print(\"\\n Velocidad promedio por franja horaria:\")\n",
    "q7.show(20, truncate=False)\n",
    "\n"
   ]
  },
  {
   "cell_type": "code",
   "execution_count": 14,
   "id": "8a5d5708-b68d-498e-9b12-6fed33a03a8b",
   "metadata": {},
   "outputs": [
    {
     "name": "stdout",
     "output_type": "stream",
     "text": [
      "PREGUNTA 8: Participación por tipo de pago y relación con propinas\n",
      "\n",
      " Análisis por tipo de pago:\n",
      "+-----------------+----------+-----------+----------+\n",
      "|payment_type_desc|num_viajes|avg_tip_pct|avg_amount|\n",
      "+-----------------+----------+-----------+----------+\n",
      "|Credit card      |562846971 |25.34      |20.13     |\n",
      "|Cash             |250048332 |0.0        |14.41     |\n",
      "|NULL             |18630567  |5.44       |26.65     |\n",
      "|No charge        |3452226   |0.06       |16.16     |\n",
      "|Dispute          |2118125   |0.07       |21.98     |\n",
      "|Unknown          |2992      |1.78       |14.79     |\n",
      "+-----------------+----------+-----------+----------+\n",
      "\n",
      "\n",
      " Con porcentaje de participación:\n",
      "+-----------------+----------+-----------+----------+-----------------+\n",
      "|payment_type_desc|num_viajes|avg_tip_pct|avg_amount|participacion_pct|\n",
      "+-----------------+----------+-----------+----------+-----------------+\n",
      "|Credit card      |562846971 |25.34      |20.13     |67.24            |\n",
      "|Cash             |250048332 |0.0        |14.41     |29.87            |\n",
      "|NULL             |18630567  |5.44       |26.65     |2.23             |\n",
      "|No charge        |3452226   |0.06       |16.16     |0.41             |\n",
      "|Dispute          |2118125   |0.07       |21.98     |0.25             |\n",
      "|Unknown          |2992      |1.78       |14.79     |0.0              |\n",
      "+-----------------+----------+-----------+----------+-----------------+\n",
      "\n"
     ]
    }
   ],
   "source": [
    "print(\"PREGUNTA 8: Participación por tipo de pago y relación con propinas\")\n",
    "\n",
    "q8 = obt.groupBy(\"payment_type_desc\").agg(\n",
    "    count(\"*\").alias(\"num_viajes\"),\n",
    "    round(avg(\"tip_pct\"), 2).alias(\"avg_tip_pct\"),\n",
    "    round(avg(\"total_amount\"), 2).alias(\"avg_amount\")\n",
    ").orderBy(col(\"num_viajes\").desc())\n",
    "\n",
    "print(\"\\n Análisis por tipo de pago:\")\n",
    "q8.show(truncate=False)\n",
    "\n",
    "total_trips = obt.count()\n",
    "q8_with_pct = q8.withColumn(\"participacion_pct\", \n",
    "    round((col(\"num_viajes\") / total_trips * 100), 2))\n",
    "\n",
    "print(\"\\n Con porcentaje de participación:\")\n",
    "q8_with_pct.show(truncate=False)\n",
    "\n"
   ]
  },
  {
   "cell_type": "code",
   "execution_count": 15,
   "id": "b4b96207-ece6-41d5-b2df-17d079961170",
   "metadata": {},
   "outputs": [
    {
     "name": "stdout",
     "output_type": "stream",
     "text": [
      "PREGUNTA 9: Rate codes que concentran mayor distancia y monto\n",
      "\n",
      " Análisis por rate code:\n",
      "+---------------------+----------+------------+----------+---------------+-----------------+\n",
      "|rate_code_desc       |num_viajes|avg_distance|avg_amount|total_distance |total_amount_sum |\n",
      "+---------------------+----------+------------+----------+---------------+-----------------+\n",
      "|Standard rate        |790602686 |2.62        |16.57     |2.07307329013E9|1.310348787429E10|\n",
      "|JFK                  |19198949  |17.17       |71.36     |3.2972178351E8 |1.36994861935E9  |\n",
      "|NULL                 |19847936  |4.53        |27.22     |8.988812851E7  |5.402063931E8    |\n",
      "|Negotiated fare      |5064460   |5.44        |57.09     |2.756358327E7  |2.8912734685E8   |\n",
      "|Newark               |1687799   |16.18       |94.0      |2.730458822E7  |1.5864482665E8   |\n",
      "|Nassau or Westchester|690608    |19.26       |100.51    |1.330271168E7  |6.941186885E7    |\n",
      "|Group ride           |6775      |1.28        |23.61     |8642.8         |159962.47        |\n",
      "+---------------------+----------+------------+----------+---------------+-----------------+\n",
      "\n"
     ]
    }
   ],
   "source": [
    "print(\"PREGUNTA 9: Rate codes que concentran mayor distancia y monto\")\n",
    "\n",
    "q9 = obt.groupBy(\"rate_code_desc\").agg(\n",
    "    count(\"*\").alias(\"num_viajes\"),\n",
    "    round(avg(\"trip_distance\"), 2).alias(\"avg_distance\"),\n",
    "    round(avg(\"total_amount\"), 2).alias(\"avg_amount\"),\n",
    "    round(sum(\"trip_distance\"), 2).alias(\"total_distance\"),\n",
    "    round(sum(\"total_amount\"), 2).alias(\"total_amount_sum\")\n",
    ").orderBy(col(\"total_amount_sum\").desc())\n",
    "\n",
    "print(\"\\n Análisis por rate code:\")\n",
    "q9.show(truncate=False)\n",
    "\n"
   ]
  },
  {
   "cell_type": "code",
   "execution_count": 16,
   "id": "d7d14519-9f70-44df-a263-0d891e0d8b76",
   "metadata": {},
   "outputs": [
    {
     "name": "stdout",
     "output_type": "stream",
     "text": [
      "PREGUNTA 10: Mix de yellow vs green por mes y borough\n",
      "\n",
      " Distribución Yellow vs Green (últimos 12 meses):\n",
      "+----------+------------+----+-----+----------+\n",
      "|pu_borough|service_type|year|month|num_viajes|\n",
      "+----------+------------+----+-----+----------+\n",
      "|Manhattan |yellow      |2098|9    |1         |\n",
      "|Queens    |yellow      |2090|12   |1         |\n",
      "|Manhattan |yellow      |2088|1    |2         |\n",
      "|Manhattan |yellow      |2084|11   |8         |\n",
      "|Queens    |green       |2081|6    |1         |\n",
      "|Queens    |yellow      |2070|8    |1         |\n",
      "|Manhattan |yellow      |2066|12   |1         |\n",
      "|Queens    |green       |2062|8    |1         |\n",
      "|Manhattan |yellow      |2058|12   |3         |\n",
      "|Brooklyn  |yellow      |2053|3    |1         |\n",
      "|Manhattan |yellow      |2042|12   |1         |\n",
      "|Manhattan |yellow      |2041|11   |1         |\n",
      "|Queens    |green       |2041|8    |1         |\n",
      "|Manhattan |yellow      |2041|6    |1         |\n",
      "|Manhattan |yellow      |2041|3    |1         |\n",
      "|Manhattan |yellow      |2038|2    |4         |\n",
      "|Manhattan |yellow      |2037|11   |1         |\n",
      "|Queens    |green       |2035|9    |1         |\n",
      "|Manhattan |yellow      |2033|4    |3         |\n",
      "|Queens    |yellow      |2032|2    |1         |\n",
      "|Manhattan |yellow      |2031|2    |2         |\n",
      "|Manhattan |green       |2030|11   |2         |\n",
      "|Brooklyn  |yellow      |2029|11   |1         |\n",
      "|Manhattan |yellow      |2029|11   |2         |\n",
      "+----------+------------+----+-----+----------+\n",
      "only showing top 24 rows\n",
      "\n"
     ]
    }
   ],
   "source": [
    "print(\"PREGUNTA 10: Mix de yellow vs green por mes y borough\")\n",
    "\n",
    "q10 = obt.groupBy(\"pu_borough\", \"service_type\", \"year\", \"month\").agg(\n",
    "    count(\"*\").alias(\"num_viajes\")\n",
    ").orderBy(\"year\", \"month\", \"pu_borough\", \"service_type\")\n",
    "\n",
    "print(\"\\n Distribución Yellow vs Green (últimos 12 meses):\")\n",
    "q10.orderBy(col(\"year\").desc(), col(\"month\").desc()).show(24, truncate=False)\n",
    "\n"
   ]
  },
  {
   "cell_type": "code",
   "execution_count": 17,
   "id": "5681cc8e-9bcf-4fb5-b140-81c8610f1388",
   "metadata": {},
   "outputs": [
    {
     "name": "stdout",
     "output_type": "stream",
     "text": [
      "PREGUNTA 11: Top 20 flujos origen-destino más frecuentes\n",
      "\n",
      " Top 20 flujos más frecuentes:\n",
      "+----------------------------+----------------------------+----------+---------------+------------+\n",
      "|pu_zone                     |do_zone                     |num_viajes|ticket_promedio|avg_distance|\n",
      "+----------------------------+----------------------------+----------+---------------+------------+\n",
      "|N/A                         |N/A                         |7474738   |17.42          |2.73        |\n",
      "|Upper East Side South       |Upper East Side North       |4423767   |10.38          |1.06        |\n",
      "|Upper East Side North       |Upper East Side South       |3779796   |11.18          |1.05        |\n",
      "|Upper East Side North       |Upper East Side North       |3503791   |8.69           |0.63        |\n",
      "|Upper East Side South       |Upper East Side South       |3342900   |9.27           |0.66        |\n",
      "|Upper West Side South       |Upper West Side North       |1975989   |8.95           |0.84        |\n",
      "|Upper West Side South       |Lincoln Square East         |1959591   |9.49           |0.88        |\n",
      "|Upper East Side South       |Midtown Center              |1889385   |12.17          |1.09        |\n",
      "|Upper East Side South       |Midtown East                |1882881   |10.76          |0.98        |\n",
      "|Lincoln Square East         |Upper West Side South       |1869525   |9.94           |0.98        |\n",
      "|Midtown Center              |Upper East Side South       |1807384   |11.82          |1.09        |\n",
      "|Upper West Side North       |Upper West Side South       |1706757   |8.86           |0.8         |\n",
      "|Lenox Hill West             |Upper East Side North       |1680406   |10.17          |1.09        |\n",
      "|Penn Station/Madison Sq West|Times Sq/Theatre District   |1632514   |12.58          |1.1         |\n",
      "|Penn Station/Madison Sq West|Midtown Center              |1619724   |13.2           |1.31        |\n",
      "|Times Sq/Theatre District   |Penn Station/Madison Sq West|1503869   |10.86          |0.99        |\n",
      "|Upper East Side South       |Lenox Hill West             |1503600   |9.34           |0.75        |\n",
      "|Gramercy                    |Murray Hill                 |1480467   |10.37          |0.98        |\n",
      "|Clinton East                |Clinton East                |1476787   |10.41          |0.7         |\n",
      "|Lenox Hill West             |Upper East Side South       |1449552   |9.28           |0.73        |\n",
      "+----------------------------+----------------------------+----------+---------------+------------+\n",
      "only showing top 20 rows\n",
      "\n"
     ]
    }
   ],
   "source": [
    "print(\"PREGUNTA 11: Top 20 flujos origen-destino más frecuentes\")\n",
    "\n",
    "q11 = obt.groupBy(\"pu_zone\", \"do_zone\").agg(\n",
    "    count(\"*\").alias(\"num_viajes\"),\n",
    "    round(avg(\"total_amount\"), 2).alias(\"ticket_promedio\"),\n",
    "    round(avg(\"trip_distance\"), 2).alias(\"avg_distance\")\n",
    ").orderBy(col(\"num_viajes\").desc())\n",
    "\n",
    "print(\"\\n Top 20 flujos más frecuentes:\")\n",
    "q11.show(20, truncate=False)\n",
    "\n"
   ]
  },
  {
   "cell_type": "code",
   "execution_count": 18,
   "id": "e29cf470-7b17-429a-9920-fabc3998624a",
   "metadata": {},
   "outputs": [
    {
     "name": "stdout",
     "output_type": "stream",
     "text": [
      "PREGUNTA 12: Distribución de pasajeros y efecto en el monto total\n",
      "\n",
      " Análisis por número de pasajeros:\n",
      "+---------------+----------+----------+------------+-----------+\n",
      "|passenger_count|num_viajes|avg_amount|avg_distance|avg_tip_pct|\n",
      "+---------------+----------+----------+------------+-----------+\n",
      "|0.0            |5826244   |19.5      |2.78        |26.6       |\n",
      "|1.0            |597054517 |18.16     |2.97        |17.82      |\n",
      "|2.0            |115285762 |19.61     |3.29        |16.7       |\n",
      "|3.0            |31921078  |19.02     |3.19        |15.86      |\n",
      "|4.0            |15400697  |20.12     |3.32        |15.22      |\n",
      "|5.0            |32823642  |17.06     |3.05        |15.26      |\n",
      "|6.0            |20147107  |16.9      |3.0         |14.97      |\n",
      "|7.0            |3750      |47.45     |2.76        |24.65      |\n",
      "|8.0            |3853      |49.73     |3.22        |17.74      |\n",
      "|9.0            |1989      |62.89     |4.73        |102.64     |\n",
      "|32.0           |1         |60.35     |16.32       |0.0        |\n",
      "|48.0           |1         |40.3      |9.06        |0.0        |\n",
      "|96.0           |2         |12.59     |1.2         |20.99      |\n",
      "|112.0          |1         |14.76     |1.8         |27.33      |\n",
      "|192.0          |2         |9.15      |1.01        |21.71      |\n",
      "+---------------+----------+----------+------------+-----------+\n",
      "\n"
     ]
    }
   ],
   "source": [
    "print(\"PREGUNTA 12: Distribución de pasajeros y efecto en el monto total\")\n",
    "\n",
    "q12 = obt.filter(col(\"passenger_count\").isNotNull()) \\\n",
    "    .groupBy(\"passenger_count\").agg(\n",
    "        count(\"*\").alias(\"num_viajes\"),\n",
    "        round(avg(\"total_amount\"), 2).alias(\"avg_amount\"),\n",
    "        round(avg(\"trip_distance\"), 2).alias(\"avg_distance\"),\n",
    "        round(avg(\"tip_pct\"), 2).alias(\"avg_tip_pct\")\n",
    "    ).orderBy(\"passenger_count\")\n",
    "\n",
    "print(\"\\n Análisis por número de pasajeros:\")\n",
    "q12.show(truncate=False)\n",
    "\n",
    "\n"
   ]
  },
  {
   "cell_type": "code",
   "execution_count": 19,
   "id": "29017748-9b49-479d-8d87-f36cff583ee3",
   "metadata": {},
   "outputs": [
    {
     "name": "stdout",
     "output_type": "stream",
     "text": [
      "PREGUNTA 13: Impacto de peajes y cargos de congestión por zona\n",
      "\n",
      " Top zonas con peajes/congestión:\n",
      "+----------------------------+----------+---------+--------------+---------+\n",
      "|pu_zone                     |num_viajes|avg_tolls|avg_congestion|avg_total|\n",
      "+----------------------------+----------+---------+--------------+---------+\n",
      "|LaGuardia Airport           |13417699  |5.78     |2.15          |52.63    |\n",
      "|Upper East Side South       |12653287  |0.18     |2.5           |17.81    |\n",
      "|Midtown Center              |12019761  |0.69     |2.49          |23.16    |\n",
      "|JFK Airport                 |11489007  |5.77     |2.1           |76.35    |\n",
      "|Upper East Side North       |11399320  |0.26     |2.5           |18.46    |\n",
      "|Midtown East                |9925383   |0.69     |2.49          |22.49    |\n",
      "|Penn Station/Madison Sq West|9746675   |0.5      |2.49          |22.27    |\n",
      "|Times Sq/Theatre District   |9447604   |1.19     |2.47          |26.79    |\n",
      "|Murray Hill                 |8716571   |0.8      |2.49          |22.42    |\n",
      "|Lincoln Square East         |8600391   |0.3      |2.49          |19.67    |\n",
      "|Clinton East                |8045976   |0.62     |2.49          |21.79    |\n",
      "|Midtown North               |7737213   |0.62     |2.48          |22.79    |\n",
      "|Union Sq                    |7730434   |0.44     |2.49          |20.51    |\n",
      "|Upper West Side South       |7513231   |0.36     |2.49          |19.59    |\n",
      "|East Chelsea                |6936999   |0.55     |2.49          |22.75    |\n",
      "+----------------------------+----------+---------+--------------+---------+\n",
      "only showing top 15 rows\n",
      "\n"
     ]
    }
   ],
   "source": [
    "print(\"PREGUNTA 13: Impacto de peajes y cargos de congestión por zona\")\n",
    "\n",
    "q13 = obt.filter((col(\"tolls_amount\") > 0) | (col(\"congestion_surcharge\") > 0)) \\\n",
    "    .groupBy(\"pu_zone\").agg(\n",
    "        count(\"*\").alias(\"num_viajes\"),\n",
    "        round(avg(\"tolls_amount\"), 2).alias(\"avg_tolls\"),\n",
    "        round(avg(\"congestion_surcharge\"), 2).alias(\"avg_congestion\"),\n",
    "        round(avg(\"total_amount\"), 2).alias(\"avg_total\")\n",
    "    ).orderBy(col(\"num_viajes\").desc())\n",
    "\n",
    "print(\"\\n Top zonas con peajes/congestión:\")\n",
    "q13.show(15, truncate=False)\n",
    "\n"
   ]
  },
  {
   "cell_type": "code",
   "execution_count": 20,
   "id": "60526c61-6feb-486c-94a0-9b0177c257cf",
   "metadata": {},
   "outputs": [
    {
     "name": "stdout",
     "output_type": "stream",
     "text": [
      "PREGUNTA 14: Proporción de viajes cortos vs largos por borough\n",
      "\n",
      " Distribución por categoría de distancia:\n",
      "+-------------+---------------+----------+\n",
      "|pu_borough   |trip_category  |num_viajes|\n",
      "+-------------+---------------+----------+\n",
      "|Bronx        |Corto (<2 mi)  |2141308   |\n",
      "|Bronx        |Largo (>10 mi) |593236    |\n",
      "|Bronx        |Medio (2-10 mi)|2501452   |\n",
      "|Brooklyn     |Corto (<2 mi)  |14733344  |\n",
      "|Brooklyn     |Largo (>10 mi) |2007926   |\n",
      "|Brooklyn     |Medio (2-10 mi)|18265678  |\n",
      "|EWR          |Corto (<2 mi)  |64050     |\n",
      "|EWR          |Largo (>10 mi) |5713      |\n",
      "|EWR          |Medio (2-10 mi)|2348      |\n",
      "|Manhattan    |Corto (<2 mi)  |435753318 |\n",
      "|Manhattan    |Largo (>10 mi) |18784883  |\n",
      "|Manhattan    |Medio (2-10 mi)|261137697 |\n",
      "|N/A          |Corto (<2 mi)  |344610    |\n",
      "|N/A          |Largo (>10 mi) |122963    |\n",
      "|N/A          |Medio (2-10 mi)|155118    |\n",
      "|Queens       |Corto (<2 mi)  |15171315  |\n",
      "|Queens       |Largo (>10 mi) |29568088  |\n",
      "|Queens       |Medio (2-10 mi)|26171241  |\n",
      "|Staten Island|Corto (<2 mi)  |17590     |\n",
      "|Staten Island|Largo (>10 mi) |22913     |\n",
      "+-------------+---------------+----------+\n",
      "only showing top 20 rows\n",
      "\n",
      "\n",
      " Con porcentajes:\n",
      "+-------------+---------------+----------+----------+\n",
      "|pu_borough   |trip_category  |num_viajes|porcentaje|\n",
      "+-------------+---------------+----------+----------+\n",
      "|Bronx        |Corto (<2 mi)  |2141308   |40.9      |\n",
      "|Bronx        |Largo (>10 mi) |593236    |11.33     |\n",
      "|Bronx        |Medio (2-10 mi)|2501452   |47.77     |\n",
      "|Brooklyn     |Corto (<2 mi)  |14733344  |42.09     |\n",
      "|Brooklyn     |Largo (>10 mi) |2007926   |5.74      |\n",
      "|Brooklyn     |Medio (2-10 mi)|18265678  |52.18     |\n",
      "|EWR          |Corto (<2 mi)  |64050     |88.82     |\n",
      "|EWR          |Largo (>10 mi) |5713      |7.92      |\n",
      "|EWR          |Medio (2-10 mi)|2348      |3.26      |\n",
      "|Manhattan    |Corto (<2 mi)  |435753318 |60.89     |\n",
      "|Manhattan    |Largo (>10 mi) |18784883  |2.62      |\n",
      "|Manhattan    |Medio (2-10 mi)|261137697 |36.49     |\n",
      "|N/A          |Corto (<2 mi)  |344610    |55.34     |\n",
      "|N/A          |Largo (>10 mi) |122963    |19.75     |\n",
      "|N/A          |Medio (2-10 mi)|155118    |24.91     |\n",
      "|Queens       |Corto (<2 mi)  |15171315  |21.39     |\n",
      "|Queens       |Largo (>10 mi) |29568088  |41.7      |\n",
      "|Queens       |Medio (2-10 mi)|26171241  |36.91     |\n",
      "|Staten Island|Corto (<2 mi)  |17590     |33.3      |\n",
      "|Staten Island|Largo (>10 mi) |22913     |43.38     |\n",
      "+-------------+---------------+----------+----------+\n",
      "only showing top 20 rows\n",
      "\n"
     ]
    }
   ],
   "source": [
    "print(\"PREGUNTA 14: Proporción de viajes cortos vs largos por borough\")\n",
    "\n",
    "q14 = obt.withColumn(\"trip_category\",\n",
    "    when(col(\"trip_distance\") < 2, \"Corto (<2 mi)\")\n",
    "    .when(col(\"trip_distance\") < 10, \"Medio (2-10 mi)\")\n",
    "    .otherwise(\"Largo (>10 mi)\")\n",
    ").groupBy(\"pu_borough\", \"trip_category\").agg(\n",
    "    count(\"*\").alias(\"num_viajes\")\n",
    ").orderBy(\"pu_borough\", \"trip_category\")\n",
    "\n",
    "print(\"\\n Distribución por categoría de distancia:\")\n",
    "q14.show(20, truncate=False)\n",
    "\n",
    "# Calcular porcentajes\n",
    "window_spec = Window.partitionBy(\"pu_borough\")\n",
    "q14_pct = q14.withColumn(\"porcentaje\",\n",
    "    round((col(\"num_viajes\") / sum(\"num_viajes\").over(window_spec) * 100), 2)\n",
    ")\n",
    "\n",
    "print(\"\\n Con porcentajes:\")\n",
    "q14_pct.show(20, truncate=False)"
   ]
  },
  {
   "cell_type": "code",
   "execution_count": 21,
   "id": "d1f8f999-f96a-4c43-a51c-fab883840f22",
   "metadata": {},
   "outputs": [
    {
     "name": "stdout",
     "output_type": "stream",
     "text": [
      "PREGUNTA 15: Diferencias por vendor en velocidad y duración\n",
      "\n",
      " Comparación por vendor:\n",
      "+---------------------------------+----------+---------+------------+------------+\n",
      "|vendor_name                      |num_viajes|avg_speed|avg_duration|avg_distance|\n",
      "+---------------------------------+----------+---------+------------+------------+\n",
      "|NULL                             |946544    |167.01   |20.5        |3.99        |\n",
      "|Creative Mobile Technologies, LLC|312994844 |15.24    |14.39       |2.93        |\n",
      "|VeriFone Inc.                    |515511136 |12.27    |18.73       |3.18        |\n",
      "+---------------------------------+----------+---------+------------+------------+\n",
      "\n"
     ]
    }
   ],
   "source": [
    "print(\"PREGUNTA 15: Diferencias por vendor en velocidad y duración\")\n",
    "\n",
    "q15 = obt.filter(col(\"avg_speed_mph\").isNotNull()) \\\n",
    "    .groupBy(\"vendor_name\").agg(\n",
    "        count(\"*\").alias(\"num_viajes\"),\n",
    "        round(avg(\"avg_speed_mph\"), 2).alias(\"avg_speed\"),\n",
    "        round(avg(\"trip_duration_min\"), 2).alias(\"avg_duration\"),\n",
    "        round(avg(\"trip_distance\"), 2).alias(\"avg_distance\")\n",
    "    ).orderBy(\"vendor_name\")\n",
    "\n",
    "print(\"\\n Comparación por vendor:\")\n",
    "q15.show(truncate=False)"
   ]
  },
  {
   "cell_type": "code",
   "execution_count": 22,
   "id": "d03471dd-ef4b-437a-811b-7991e3b8e3ff",
   "metadata": {},
   "outputs": [
    {
     "name": "stdout",
     "output_type": "stream",
     "text": [
      "PREGUNTA 16: Relación entre método de pago y propina por hora del día\n",
      "\n",
      " Propinas por hora y método de pago (primeras 20):\n",
      "+-----------+-----------------+----------+--------------+-----------+\n",
      "|pickup_hour|payment_type_desc|num_viajes|avg_tip_amount|avg_tip_pct|\n",
      "+-----------+-----------------+----------+--------------+-----------+\n",
      "|0          |Credit card      |18531350  |3.02          |26.89      |\n",
      "|0          |Cash             |8035751   |0.0           |0.0        |\n",
      "|0          |NULL             |717204    |0.75          |3.89       |\n",
      "|0          |No charge        |133372    |0.0           |0.03       |\n",
      "|0          |Dispute          |80444     |0.01          |0.11       |\n",
      "|0          |Unknown          |96        |0.0           |0.0        |\n",
      "|1          |Credit card      |13090315  |2.81          |27.83      |\n",
      "|1          |Cash             |5905387   |0.0           |0.0        |\n",
      "|1          |NULL             |472532    |0.72          |3.72       |\n",
      "|1          |No charge        |109082    |0.0           |0.05       |\n",
      "|1          |Dispute          |60919     |0.01          |0.06       |\n",
      "|1          |Unknown          |92        |0.0           |0.0        |\n",
      "|2          |Credit card      |9194589   |2.66          |30.59      |\n",
      "|2          |Cash             |4356381   |0.0           |0.0        |\n",
      "|2          |NULL             |324232    |0.77          |3.9        |\n",
      "|2          |No charge        |90233     |0.01          |0.15       |\n",
      "|2          |Dispute          |46874     |0.01          |0.07       |\n",
      "|2          |Unknown          |76        |0.0           |0.0        |\n",
      "|3          |Credit card      |6319578   |2.72          |31.01      |\n",
      "|3          |Cash             |3401660   |0.0           |0.0        |\n",
      "+-----------+-----------------+----------+--------------+-----------+\n",
      "only showing top 20 rows\n",
      "\n"
     ]
    }
   ],
   "source": [
    "print(\"PREGUNTA 16: Relación entre método de pago y propina por hora del día\")\n",
    "\n",
    "q16 = obt.groupBy(\"pickup_hour\", \"payment_type_desc\").agg(\n",
    "    count(\"*\").alias(\"num_viajes\"),\n",
    "    round(avg(\"tip_amount\"), 2).alias(\"avg_tip_amount\"),\n",
    "    round(avg(\"tip_pct\"), 2).alias(\"avg_tip_pct\")\n",
    ").orderBy(\"pickup_hour\", col(\"num_viajes\").desc())\n",
    "\n",
    "print(\"\\n Propinas por hora y método de pago (primeras 20):\")\n",
    "q16.show(20, truncate=False)"
   ]
  },
  {
   "cell_type": "code",
   "execution_count": 7,
   "id": "33263a4f-214c-4658-a141-cd22b1ad485f",
   "metadata": {},
   "outputs": [
    {
     "name": "stdout",
     "output_type": "stream",
     "text": [
      "PREGUNTA 17: Zonas con duraciones/distancias extremas\n",
      "\n",
      " Top 15 zonas con valores extremos:\n",
      "(Zonas donde se han registrado viajes muy largos)\n",
      "+-----------------------------+----------+------------+------------+------------+------------+\n",
      "|pu_zone                      |num_viajes|avg_duration|max_duration|avg_distance|max_distance|\n",
      "+-----------------------------+----------+------------+------------+------------+------------+\n",
      "|Financial District North     |5523971   |20.47       |1439.98     |4.38        |442.0       |\n",
      "|Midtown East                 |25970033  |15.51       |1439.98     |2.4         |425.0       |\n",
      "|Upper East Side South        |31713007  |12.96       |1439.98     |1.81        |401.5       |\n",
      "|East Harlem North            |7055489   |16.15       |1439.98     |2.48        |249.6       |\n",
      "|East Flatbush/Farragut       |139021    |28.22       |1439.98     |4.88        |169.1       |\n",
      "|Sutton Place/Turtle Bay North|14649645  |13.79       |1439.98     |2.2         |365.9       |\n",
      "|TriBeCa/Civic Center         |13130597  |17.36       |1439.98     |3.03        |494.4       |\n",
      "|LaGuardia Airport            |20093334  |33.75       |1439.98     |9.66        |474.5       |\n",
      "|West Concourse               |540110    |19.12       |1439.98     |3.39        |215.79      |\n",
      "|Astoria                      |4240440   |17.77       |1439.98     |2.59        |333.67      |\n",
      "|Yorkville West               |14239233  |12.88       |1439.98     |2.31        |462.86      |\n",
      "|Times Sq/Theatre District    |24926634  |17.71       |1439.98     |2.9         |421.9       |\n",
      "|Ridgewood                    |102318    |23.54       |1439.98     |4.29        |183.8       |\n",
      "|Upper West Side North        |14716776  |13.37       |1439.98     |2.27        |406.6       |\n",
      "|Greenwich Village South      |10527828  |15.91       |1439.98     |2.44        |400.4       |\n",
      "+-----------------------------+----------+------------+------------+------------+------------+\n",
      "\n"
     ]
    }
   ],
   "source": [
    "\n",
    "\n",
    "print(\"PREGUNTA 17: Zonas con duraciones/distancias extremas\")\n",
    "\n",
    "q17 = obt.filter((col(\"year\") >= 2015) & (col(\"year\") <= 2025)) \\\n",
    "    .groupBy(\"pu_zone\").agg(\n",
    "        count(\"*\").alias(\"num_viajes\"),\n",
    "        round(avg(\"trip_duration_min\"), 2).alias(\"avg_duration\"),\n",
    "        round(max(\"trip_duration_min\"), 2).alias(\"max_duration\"),\n",
    "        round(avg(\"trip_distance\"), 2).alias(\"avg_distance\"),\n",
    "        round(max(\"trip_distance\"), 2).alias(\"max_distance\")\n",
    "    ).filter((col(\"max_duration\") > 180) | (col(\"max_distance\") > 100)) \\\n",
    "    .orderBy(col(\"max_duration\").desc())\n",
    "\n",
    "print(\"\\n Top 15 zonas con valores extremos:\")\n",
    "print(\"(Zonas donde se han registrado viajes muy largos)\")\n",
    "\n",
    "q17.limit(15).show(truncate=False)\n",
    "\n"
   ]
  },
  {
   "cell_type": "code",
   "execution_count": 8,
   "id": "0e8f9212-9a9c-49ae-98a1-4d22f84e04fb",
   "metadata": {},
   "outputs": [
    {
     "name": "stdout",
     "output_type": "stream",
     "text": [
      "PREGUNTA 18: Rendimiento por milla (total_amount/trip_distance)\n",
      "\n",
      " Top yields por borough (top 15):\n",
      "+----------+-----------+------------------+----------+\n",
      "|pu_borough|pickup_hour|avg_yield_per_mile|num_viajes|\n",
      "+----------+-----------+------------------+----------+\n",
      "|Bronx     |17         |18.13             |286112    |\n",
      "|Bronx     |2          |17.67             |69174     |\n",
      "|Bronx     |18         |17.14             |260148    |\n",
      "|Bronx     |16         |16.87             |280074    |\n",
      "|Bronx     |19         |16.04             |220693    |\n",
      "|Bronx     |3          |15.98             |59289     |\n",
      "|Bronx     |1          |15.89             |97108     |\n",
      "|Bronx     |0          |14.38             |131743    |\n",
      "|Bronx     |20         |13.96             |195473    |\n",
      "|Bronx     |4          |13.53             |73668     |\n",
      "|Bronx     |21         |13.5              |186666    |\n",
      "|Bronx     |23         |13.47             |164941    |\n",
      "|Bronx     |22         |13.23             |178277    |\n",
      "|Bronx     |5          |12.79             |89932     |\n",
      "|Bronx     |15         |12.78             |286200    |\n",
      "+----------+-----------+------------------+----------+\n",
      "only showing top 15 rows\n",
      "\n"
     ]
    }
   ],
   "source": [
    "print(\"PREGUNTA 18: Rendimiento por milla (total_amount/trip_distance)\")\n",
    "\n",
    "q18 = obt.filter((col(\"trip_distance\") > 0) & (col(\"total_amount\") > 0)) \\\n",
    "    .withColumn(\"yield_per_mile\", col(\"total_amount\") / col(\"trip_distance\")) \\\n",
    "    .groupBy(\"pu_borough\", \"pickup_hour\").agg(\n",
    "        round(avg(\"yield_per_mile\"), 2).alias(\"avg_yield_per_mile\"),\n",
    "        count(\"*\").alias(\"num_viajes\")\n",
    "    ).orderBy(\"pu_borough\", col(\"avg_yield_per_mile\").desc())\n",
    "\n",
    "print(\"\\n Top yields por borough (top 15):\")\n",
    "q18.show(15, truncate=False)"
   ]
  },
  {
   "cell_type": "code",
   "execution_count": 9,
   "id": "89fe5368-a274-4f17-a4b8-c97c2d766901",
   "metadata": {},
   "outputs": [
    {
     "name": "stdout",
     "output_type": "stream",
     "text": [
      "PREGUNTA 19: Cambios año sobre año (YoY)\n",
      "\n",
      " Evolución anual por servicio:\n",
      "+------------+----+----------+---------------+\n",
      "|service_type|year|num_viajes|ticket_promedio|\n",
      "+------------+----+----------+---------------+\n",
      "|green       |2008|112       |13.07          |\n",
      "|green       |2009|311       |16.54          |\n",
      "|green       |2010|346       |18.03          |\n",
      "|green       |2012|3         |9.79           |\n",
      "|green       |2015|19189832  |14.83          |\n",
      "|green       |2016|16341257  |14.69          |\n",
      "|green       |2017|11703607  |14.29          |\n",
      "|green       |2018|8870778   |16.15          |\n",
      "|green       |2019|6248023   |18.35          |\n",
      "|green       |2020|1726073   |20.23          |\n",
      "|green       |2021|1063303   |23.99          |\n",
      "|green       |2022|835867    |19.38          |\n",
      "|green       |2023|783243    |23.96          |\n",
      "|green       |2024|657148    |24.38          |\n",
      "|green       |2025|394832    |24.99          |\n",
      "|green       |2030|2         |6.15           |\n",
      "|green       |2035|1         |0.0            |\n",
      "|green       |2041|1         |0.0            |\n",
      "|green       |2062|1         |3.6            |\n",
      "|green       |2081|1         |55.96          |\n",
      "|yellow      |2001|27        |23.42          |\n",
      "|yellow      |2002|351       |25.64          |\n",
      "|yellow      |2003|49        |25.66          |\n",
      "|yellow      |2004|1         |12.3           |\n",
      "|yellow      |2007|1         |22.75          |\n",
      "+------------+----+----------+---------------+\n",
      "only showing top 25 rows\n",
      "\n",
      "\n",
      " Con cambios YoY:\n",
      "+------------+----+----------+---------------+-----------+-----------+-----------------+-----------------+\n",
      "|service_type|year|num_viajes|ticket_promedio|prev_viajes|prev_ticket|cambio_viajes_pct|cambio_ticket_pct|\n",
      "+------------+----+----------+---------------+-----------+-----------+-----------------+-----------------+\n",
      "|green       |2008|112       |13.07          |NULL       |NULL       |NULL             |NULL             |\n",
      "|green       |2009|311       |16.54          |112        |13.07      |177.68           |26.55            |\n",
      "|green       |2010|346       |18.03          |311        |16.54      |11.25            |9.01             |\n",
      "|green       |2012|3         |9.79           |346        |18.03      |-99.13           |-45.7            |\n",
      "|green       |2015|19189832  |14.83          |3          |9.79       |6.3966096667E8   |51.48            |\n",
      "|green       |2016|16341257  |14.69          |19189832   |14.83      |-14.84           |-0.94            |\n",
      "|green       |2017|11703607  |14.29          |16341257   |14.69      |-28.38           |-2.72            |\n",
      "|green       |2018|8870778   |16.15          |11703607   |14.29      |-24.2            |13.02            |\n",
      "|green       |2019|6248023   |18.35          |8870778    |16.15      |-29.57           |13.62            |\n",
      "|green       |2020|1726073   |20.23          |6248023    |18.35      |-72.37           |10.25            |\n",
      "|green       |2021|1063303   |23.99          |1726073    |20.23      |-38.4            |18.59            |\n",
      "|green       |2022|835867    |19.38          |1063303    |23.99      |-21.39           |-19.22           |\n",
      "|green       |2023|783243    |23.96          |835867     |19.38      |-6.3             |23.63            |\n",
      "|green       |2024|657148    |24.38          |783243     |23.96      |-16.1            |1.75             |\n",
      "|green       |2025|394832    |24.99          |657148     |24.38      |-39.92           |2.5              |\n",
      "|green       |2030|2         |6.15           |394832     |24.99      |-100.0           |-75.39           |\n",
      "|green       |2035|1         |0.0            |2          |6.15       |-50.0            |-100.0           |\n",
      "|green       |2041|1         |0.0            |1          |0.0        |0.0              |NULL             |\n",
      "|green       |2062|1         |3.6            |1          |0.0        |0.0              |NULL             |\n",
      "|green       |2081|1         |55.96          |1          |3.6        |0.0              |1454.44          |\n",
      "|yellow      |2001|27        |23.42          |NULL       |NULL       |NULL             |NULL             |\n",
      "|yellow      |2002|351       |25.64          |27         |23.42      |1200.0           |9.48             |\n",
      "|yellow      |2003|49        |25.66          |351        |25.64      |-86.04           |0.08             |\n",
      "|yellow      |2004|1         |12.3           |49         |25.66      |-97.96           |-52.07           |\n",
      "|yellow      |2007|1         |22.75          |1          |12.3       |0.0              |84.96            |\n",
      "+------------+----+----------+---------------+-----------+-----------+-----------------+-----------------+\n",
      "only showing top 25 rows\n",
      "\n"
     ]
    }
   ],
   "source": [
    "print(\"PREGUNTA 19: Cambios año sobre año (YoY)\")\n",
    "\n",
    "q19 = obt.groupBy(\"service_type\", \"year\").agg(\n",
    "    count(\"*\").alias(\"num_viajes\"),\n",
    "    round(avg(\"total_amount\"), 2).alias(\"ticket_promedio\")\n",
    ").orderBy(\"service_type\", \"year\")\n",
    "\n",
    "print(\"\\n Evolución anual por servicio:\")\n",
    "q19.show(25, truncate=False)\n",
    "\n",
    "window_spec = Window.partitionBy(\"service_type\").orderBy(\"year\")\n",
    "q19_yoy = q19.withColumn(\"prev_viajes\", lag(\"num_viajes\").over(window_spec)) \\\n",
    "    .withColumn(\"prev_ticket\", lag(\"ticket_promedio\").over(window_spec)) \\\n",
    "    .withColumn(\"cambio_viajes_pct\", \n",
    "        round(((col(\"num_viajes\") - col(\"prev_viajes\")) / col(\"prev_viajes\") * 100), 2)) \\\n",
    "    .withColumn(\"cambio_ticket_pct\",\n",
    "        round(((col(\"ticket_promedio\") - col(\"prev_ticket\")) / col(\"prev_ticket\") * 100), 2))\n",
    "\n",
    "print(\"\\n Con cambios YoY:\")\n",
    "q19_yoy.show(25, truncate=False)"
   ]
  },
  {
   "cell_type": "code",
   "execution_count": 10,
   "id": "eef22e9d-d96f-4716-af17-233e48db68d9",
   "metadata": {},
   "outputs": [
    {
     "name": "stdout",
     "output_type": "stream",
     "text": [
      "PREGUNTA 20: Efecto de congestión en el monto total\n",
      "\n",
      " Comparación con/sin cargo de congestión:\n",
      "+-----------------------+----------+---------+------------+---------+\n",
      "|congestion_level       |num_viajes|avg_total|avg_duration|avg_speed|\n",
      "+-----------------------+----------+---------+------------+---------+\n",
      "|Con cargo de congestión|244193258 |21.81    |16.63       |11.56    |\n",
      "|Sin cargo de congestión|592905955 |17.21    |17.19       |14.4     |\n",
      "+-----------------------+----------+---------+------------+---------+\n",
      "\n"
     ]
    }
   ],
   "source": [
    "print(\"PREGUNTA 20: Efecto de congestión en el monto total\")\n",
    "\n",
    "q20 = obt.withColumn(\"congestion_level\",\n",
    "    when(col(\"congestion_surcharge\") > 0, \"Con cargo de congestión\")\n",
    "    .otherwise(\"Sin cargo de congestión\")\n",
    ").groupBy(\"congestion_level\").agg(\n",
    "    count(\"*\").alias(\"num_viajes\"),\n",
    "    round(avg(\"total_amount\"), 2).alias(\"avg_total\"),\n",
    "    round(avg(\"trip_duration_min\"), 2).alias(\"avg_duration\"),\n",
    "    round(avg(\"avg_speed_mph\"), 2).alias(\"avg_speed\")\n",
    ").orderBy(\"congestion_level\")\n",
    "\n",
    "print(\"\\n Comparación con/sin cargo de congestión:\")\n",
    "q20.show(truncate=False)"
   ]
  },
  {
   "cell_type": "code",
   "execution_count": null,
   "id": "e3de1922-3833-4128-92a1-cfe0811bd76a",
   "metadata": {},
   "outputs": [],
   "source": []
  },
  {
   "cell_type": "code",
   "execution_count": null,
   "id": "1613b009-6c30-4d7d-8e15-8148ba70c0fe",
   "metadata": {},
   "outputs": [],
   "source": []
  }
 ],
 "metadata": {
  "kernelspec": {
   "display_name": "Python 3 (ipykernel)",
   "language": "python",
   "name": "python3"
  },
  "language_info": {
   "codemirror_mode": {
    "name": "ipython",
    "version": 3
   },
   "file_extension": ".py",
   "mimetype": "text/x-python",
   "name": "python",
   "nbconvert_exporter": "python",
   "pygments_lexer": "ipython3",
   "version": "3.11.6"
  }
 },
 "nbformat": 4,
 "nbformat_minor": 5
}
