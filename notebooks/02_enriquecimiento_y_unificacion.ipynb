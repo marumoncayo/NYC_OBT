{
 "cells": [
  {
   "cell_type": "code",
   "execution_count": 1,
   "id": "d90996d4-898c-486c-99e1-c48957fe1859",
   "metadata": {},
   "outputs": [
    {
     "name": "stdout",
     "output_type": "stream",
     "text": [
      " Imports completados\n"
     ]
    }
   ],
   "source": [
    "import os\n",
    "import sys\n",
    "from datetime import datetime\n",
    "from pyspark.sql import SparkSession\n",
    "from pyspark.sql.functions import *\n",
    "from pyspark.sql.types import *\n",
    "import requests\n",
    "import urllib.request\n",
    "import pandas as pd\n",
    "import snowflake.connector\n",
    "\n",
    "print(\" Imports completados\")"
   ]
  },
  {
   "cell_type": "code",
   "execution_count": 2,
   "id": "66e14271-5a41-410b-9bcf-3e3e5445c4db",
   "metadata": {},
   "outputs": [
    {
     "name": "stdout",
     "output_type": "stream",
     "text": [
      "CONFIGURACIÓN DE ENRIQUECIMIENTO\n",
      "Base de datos: NYC_TLC_P03\n",
      "Schema RAW: RAW\n",
      "Schema ANALYTICS: ANALYTICS\n",
      "Taxi Zone URL: https://d37ci6vzurychx.cloudfront.net/misc/taxi+_zone_lookup.csv\n"
     ]
    }
   ],
   "source": [
    "\n",
    "SNOWFLAKE_ACCOUNT = os.getenv('SNOWFLAKE_ACCOUNT')\n",
    "SNOWFLAKE_USER = os.getenv('SNOWFLAKE_USER')\n",
    "SNOWFLAKE_PASSWORD = os.getenv('SNOWFLAKE_PASSWORD')\n",
    "SNOWFLAKE_ROLE = os.getenv('SNOWFLAKE_ROLE', 'ACCOUNTADMIN')\n",
    "SNOWFLAKE_DATABASE = os.getenv('SNOWFLAKE_DATABASE')\n",
    "SNOWFLAKE_WAREHOUSE = os.getenv('SNOWFLAKE_WAREHOUSE')\n",
    "SNOWFLAKE_SCHEMA_RAW = os.getenv('SNOWFLAKE_SCHEMA_RAW', 'RAW')\n",
    "SNOWFLAKE_SCHEMA_ANALYTICS = os.getenv('SNOWFLAKE_SCHEMA_ANALYTICS', 'ANALYTICS')\n",
    "\n",
    "# Taxi Zone Lookup URL\n",
    "TAXI_ZONE_URL = \"https://d37ci6vzurychx.cloudfront.net/misc/taxi+_zone_lookup.csv\"\n",
    "\n",
    "\n",
    "print(\"CONFIGURACIÓN DE ENRIQUECIMIENTO\")\n",
    "\n",
    "print(f\"Base de datos: {SNOWFLAKE_DATABASE}\")\n",
    "print(f\"Schema RAW: {SNOWFLAKE_SCHEMA_RAW}\")\n",
    "print(f\"Schema ANALYTICS: {SNOWFLAKE_SCHEMA_ANALYTICS}\")\n",
    "print(f\"Taxi Zone URL: {TAXI_ZONE_URL}\")\n"
   ]
  },
  {
   "cell_type": "code",
   "execution_count": 3,
   "id": "90ffc21e-e514-4be9-8699-d2404bda409d",
   "metadata": {},
   "outputs": [
    {
     "name": "stdout",
     "output_type": "stream",
     "text": [
      "\n",
      " Inicializando Spark...\n",
      " Spark 3.5.0 inicializado\n"
     ]
    }
   ],
   "source": [
    "print(\"\\n Inicializando Spark...\")\n",
    "\n",
    "spark = SparkSession.builder \\\n",
    "    .appName(\"NYC_TLC_Enriquecimiento\") \\\n",
    "    .config(\"spark.jars.packages\", \n",
    "            \"net.snowflake:spark-snowflake_2.12:2.11.0-spark_3.3,\"\n",
    "            \"net.snowflake:snowflake-jdbc:3.13.30\") \\\n",
    "    .getOrCreate()\n",
    "\n",
    "spark.sparkContext.setLogLevel(\"WARN\")\n",
    "\n",
    "print(f\" Spark {spark.version} inicializado\")"
   ]
  },
  {
   "cell_type": "code",
   "execution_count": 5,
   "id": "84a329d3-bd6e-4e68-9b9a-0c8a851f6263",
   "metadata": {},
   "outputs": [
    {
     "name": "stdout",
     "output_type": "stream",
     "text": [
      "Configuración de Snowflake establecida\n"
     ]
    }
   ],
   "source": [
    "sfOptions = {\n",
    "    \"sfURL\": f\"{SNOWFLAKE_ACCOUNT}.snowflakecomputing.com\",\n",
    "    \"sfUser\": SNOWFLAKE_USER,\n",
    "    \"sfPassword\": SNOWFLAKE_PASSWORD,\n",
    "    \"sfDatabase\": SNOWFLAKE_DATABASE,\n",
    "    \"sfSchema\": SNOWFLAKE_SCHEMA_ANALYTICS,\n",
    "    \"sfWarehouse\": SNOWFLAKE_WAREHOUSE,\n",
    "    \"sfRole\": SNOWFLAKE_ROLE\n",
    "}\n",
    "\n",
    "print(\"Configuración de Snowflake establecida\")"
   ]
  },
  {
   "cell_type": "code",
   "execution_count": 9,
   "id": "c81b0022-9ba8-49ec-9603-b7d6273da443",
   "metadata": {},
   "outputs": [
    {
     "name": "stdout",
     "output_type": "stream",
     "text": [
      " DESCARGANDO TAXI ZONE LOOKUP\n",
      "  Descargando: https://d37ci6vzurychx.cloudfront.net/misc/taxi+_zone_lookup.csv\n",
      " Descargado a: /tmp/taxi_zone_lookup.csv\n",
      " Leyendo CSV con Spark...\n",
      " Registros leídos: 265\n",
      "\n",
      "Schema:\n",
      "root\n",
      " |-- LocationID: integer (nullable = true)\n",
      " |-- Borough: string (nullable = true)\n",
      " |-- Zone: string (nullable = true)\n",
      " |-- service_zone: string (nullable = true)\n",
      "\n",
      "\n",
      "Muestra de datos:\n",
      "+----------+-------------+-----------------------+------------+\n",
      "|LocationID|Borough      |Zone                   |service_zone|\n",
      "+----------+-------------+-----------------------+------------+\n",
      "|1         |EWR          |Newark Airport         |EWR         |\n",
      "|2         |Queens       |Jamaica Bay            |Boro Zone   |\n",
      "|3         |Bronx        |Allerton/Pelham Gardens|Boro Zone   |\n",
      "|4         |Manhattan    |Alphabet City          |Yellow Zone |\n",
      "|5         |Staten Island|Arden Heights          |Boro Zone   |\n",
      "|6         |Staten Island|Arrochar/Fort Wadsworth|Boro Zone   |\n",
      "|7         |Queens       |Astoria                |Boro Zone   |\n",
      "|8         |Queens       |Astoria Park           |Boro Zone   |\n",
      "|9         |Queens       |Auburndale             |Boro Zone   |\n",
      "|10        |Queens       |Baisley Park           |Boro Zone   |\n",
      "+----------+-------------+-----------------------+------------+\n",
      "only showing top 10 rows\n",
      "\n",
      "  Archivo temporal mantiene para escritura a Snowflake\n"
     ]
    }
   ],
   "source": [
    "\n",
    "\n",
    "print(\" DESCARGANDO TAXI ZONE LOOKUP\")\n",
    "\n",
    "# Descargar archivo\n",
    "tmp_zones_path = \"/tmp/taxi_zone_lookup.csv\"\n",
    "print(f\"  Descargando: {TAXI_ZONE_URL}\")\n",
    "urllib.request.urlretrieve(TAXI_ZONE_URL, tmp_zones_path)\n",
    "print(f\" Descargado a: {tmp_zones_path}\")\n",
    "\n",
    "# Leer con Spark\n",
    "print(\" Leyendo CSV con Spark...\")\n",
    "taxi_zones_df = spark.read \\\n",
    "    .option(\"header\", \"true\") \\\n",
    "    .option(\"inferSchema\", \"true\") \\\n",
    "    .csv(tmp_zones_path)\n",
    "\n",
    "print(f\" Registros leídos: {taxi_zones_df.count()}\")\n",
    "\n",
    "# Mostrar schema y muestra\n",
    "print(\"\\nSchema:\")\n",
    "taxi_zones_df.printSchema()\n",
    "\n",
    "print(\"\\nMuestra de datos:\")\n",
    "taxi_zones_df.show(10, truncate=False)\n",
    "\n",
    "# NO BORRAR TODAVÍA - Spark lo necesita\n",
    "print(\"  Archivo temporal mantiene para escritura a Snowflake\")"
   ]
  },
  {
   "cell_type": "code",
   "execution_count": 10,
   "id": "056d7122-b95e-450c-9cb1-6eb576b18e65",
   "metadata": {},
   "outputs": [
    {
     "name": "stdout",
     "output_type": "stream",
     "text": [
      " CARGANDO TAXI ZONES A SNOWFLAKE\n",
      " Escribiendo a ANALYTICS.TAXI_ZONES...\n",
      "Taxi Zones cargados exitosamente\n",
      " Verificado: 265 zonas en ANALYTICS.TAXI_ZONES\n",
      "  Archivo temporal eliminado\n"
     ]
    },
    {
     "data": {
      "text/plain": [
       "DataFrame[LocationID: int, Borough: string, Zone: string, service_zone: string]"
      ]
     },
     "execution_count": 10,
     "metadata": {},
     "output_type": "execute_result"
    }
   ],
   "source": [
    "\n",
    "print(\" CARGANDO TAXI ZONES A SNOWFLAKE\")\n",
    "\n",
    "# Cambiar a schema ANALYTICS\n",
    "sfOptions_analytics = sfOptions.copy()\n",
    "sfOptions_analytics[\"sfSchema\"] = SNOWFLAKE_SCHEMA_ANALYTICS\n",
    "\n",
    "print(f\" Escribiendo a {SNOWFLAKE_SCHEMA_ANALYTICS}.TAXI_ZONES...\")\n",
    "\n",
    "# IMPORTANTE: Cachear el DataFrame antes de escribir\n",
    "taxi_zones_df.cache()\n",
    "\n",
    "# Escribir a Snowflake (truncate and replace)\n",
    "taxi_zones_df.write \\\n",
    "    .format(\"snowflake\") \\\n",
    "    .options(**sfOptions_analytics) \\\n",
    "    .option(\"dbtable\", \"TAXI_ZONES\") \\\n",
    "    .mode(\"overwrite\") \\\n",
    "    .save()\n",
    "\n",
    "print(\"Taxi Zones cargados exitosamente\")\n",
    "\n",
    "# Verificar\n",
    "zones_count = spark.read \\\n",
    "    .format(\"snowflake\") \\\n",
    "    .options(**sfOptions_analytics) \\\n",
    "    .option(\"dbtable\", \"TAXI_ZONES\") \\\n",
    "    .load() \\\n",
    "    .count()\n",
    "\n",
    "print(f\" Verificado: {zones_count} zonas en ANALYTICS.TAXI_ZONES\")\n",
    "\n",
    "# AHORA SÍ: Limpiar archivo temporal\n",
    "if os.path.exists(tmp_zones_path):\n",
    "    os.remove(tmp_zones_path)\n",
    "    print(\"  Archivo temporal eliminado\")\n",
    "\n",
    "# Liberar cache\n",
    "taxi_zones_df.unpersist()"
   ]
  },
  {
   "cell_type": "code",
   "execution_count": 11,
   "id": "5b9f6734-4a28-49e3-8ccf-073f3157deb2",
   "metadata": {},
   "outputs": [
    {
     "name": "stdout",
     "output_type": "stream",
     "text": [
      " CREANDO CATÁLOGO: PAYMENT_TYPE\n",
      "Catálogo Payment Type:\n",
      "+---------------+-----------------+\n",
      "|payment_type_id|payment_type_desc|\n",
      "+---------------+-----------------+\n",
      "|1              |Credit card      |\n",
      "|2              |Cash             |\n",
      "|3              |No charge        |\n",
      "|4              |Dispute          |\n",
      "|5              |Unknown          |\n",
      "|6              |Voided trip      |\n",
      "+---------------+-----------------+\n",
      "\n",
      " Escribiendo a ANALYTICS.PAYMENT_TYPE_LOOKUP...\n",
      " Catálogo Payment Type cargado\n"
     ]
    }
   ],
   "source": [
    "print(\" CREANDO CATÁLOGO: PAYMENT_TYPE\")\n",
    "\n",
    "# Definir catálogo según documentación NYC TLC\n",
    "payment_types_data = [\n",
    "    (1, \"Credit card\"),\n",
    "    (2, \"Cash\"),\n",
    "    (3, \"No charge\"),\n",
    "    (4, \"Dispute\"),\n",
    "    (5, \"Unknown\"),\n",
    "    (6, \"Voided trip\")\n",
    "]\n",
    "\n",
    "payment_types_df = spark.createDataFrame(\n",
    "    payment_types_data,\n",
    "    [\"payment_type_id\", \"payment_type_desc\"]\n",
    ")\n",
    "\n",
    "print(\"Catálogo Payment Type:\")\n",
    "payment_types_df.show(truncate=False)\n",
    "\n",
    "# Escribir a Snowflake\n",
    "print(f\" Escribiendo a {SNOWFLAKE_SCHEMA_ANALYTICS}.PAYMENT_TYPE_LOOKUP...\")\n",
    "\n",
    "payment_types_df.write \\\n",
    "    .format(\"snowflake\") \\\n",
    "    .options(**sfOptions_analytics) \\\n",
    "    .option(\"dbtable\", \"PAYMENT_TYPE_LOOKUP\") \\\n",
    "    .mode(\"overwrite\") \\\n",
    "    .save()\n",
    "\n",
    "print(\" Catálogo Payment Type cargado\")"
   ]
  },
  {
   "cell_type": "code",
   "execution_count": 12,
   "id": "2475ee7c-6f59-4bde-97af-c5946276d898",
   "metadata": {},
   "outputs": [
    {
     "name": "stdout",
     "output_type": "stream",
     "text": [
      " CREANDO CATÁLOGO: RATE_CODE\n",
      " Catálogo Rate Code:\n",
      "+------------+---------------------+\n",
      "|rate_code_id|rate_code_desc       |\n",
      "+------------+---------------------+\n",
      "|1           |Standard rate        |\n",
      "|2           |JFK                  |\n",
      "|3           |Newark               |\n",
      "|4           |Nassau or Westchester|\n",
      "|5           |Negotiated fare      |\n",
      "|6           |Group ride           |\n",
      "+------------+---------------------+\n",
      "\n",
      " Escribiendo a ANALYTICS.RATE_CODE_LOOKUP...\n",
      " Catálogo Rate Code cargado\n"
     ]
    }
   ],
   "source": [
    "print(\" CREANDO CATÁLOGO: RATE_CODE\")\n",
    "\n",
    "# Definir catálogo según documentación NYC TLC\n",
    "rate_code_data = [\n",
    "    (1, \"Standard rate\"),\n",
    "    (2, \"JFK\"),\n",
    "    (3, \"Newark\"),\n",
    "    (4, \"Nassau or Westchester\"),\n",
    "    (5, \"Negotiated fare\"),\n",
    "    (6, \"Group ride\")\n",
    "]\n",
    "\n",
    "rate_code_df = spark.createDataFrame(\n",
    "    rate_code_data,\n",
    "    [\"rate_code_id\", \"rate_code_desc\"]\n",
    ")\n",
    "\n",
    "print(\" Catálogo Rate Code:\")\n",
    "rate_code_df.show(truncate=False)\n",
    "\n",
    "# Escribir a Snowflake\n",
    "print(f\" Escribiendo a {SNOWFLAKE_SCHEMA_ANALYTICS}.RATE_CODE_LOOKUP...\")\n",
    "\n",
    "rate_code_df.write \\\n",
    "    .format(\"snowflake\") \\\n",
    "    .options(**sfOptions_analytics) \\\n",
    "    .option(\"dbtable\", \"RATE_CODE_LOOKUP\") \\\n",
    "    .mode(\"overwrite\") \\\n",
    "    .save()\n",
    "\n",
    "print(\" Catálogo Rate Code cargado\")"
   ]
  },
  {
   "cell_type": "code",
   "execution_count": 13,
   "id": "d4438e1d-57f3-48e4-bbe3-b28851ffa4a8",
   "metadata": {},
   "outputs": [
    {
     "name": "stdout",
     "output_type": "stream",
     "text": [
      " CREANDO CATÁLOGO: VENDOR\n",
      " Catálogo Vendor:\n",
      "+---------+---------------------------------+\n",
      "|vendor_id|vendor_name                      |\n",
      "+---------+---------------------------------+\n",
      "|1        |Creative Mobile Technologies, LLC|\n",
      "|2        |VeriFone Inc.                    |\n",
      "+---------+---------------------------------+\n",
      "\n",
      " Escribiendo a ANALYTICS.VENDOR_LOOKUP...\n",
      " Catálogo Vendor cargado\n"
     ]
    }
   ],
   "source": [
    "print(\" CREANDO CATÁLOGO: VENDOR\")\n",
    "\n",
    "# Definir catálogo según documentación NYC TLC\n",
    "vendor_data = [\n",
    "    (1, \"Creative Mobile Technologies, LLC\"),\n",
    "    (2, \"VeriFone Inc.\")\n",
    "]\n",
    "\n",
    "vendor_df = spark.createDataFrame(\n",
    "    vendor_data,\n",
    "    [\"vendor_id\", \"vendor_name\"]\n",
    ")\n",
    "\n",
    "print(\" Catálogo Vendor:\")\n",
    "vendor_df.show(truncate=False)\n",
    "\n",
    "# Escribir a Snowflake\n",
    "print(f\" Escribiendo a {SNOWFLAKE_SCHEMA_ANALYTICS}.VENDOR_LOOKUP...\")\n",
    "\n",
    "vendor_df.write \\\n",
    "    .format(\"snowflake\") \\\n",
    "    .options(**sfOptions_analytics) \\\n",
    "    .option(\"dbtable\", \"VENDOR_LOOKUP\") \\\n",
    "    .mode(\"overwrite\") \\\n",
    "    .save()\n",
    "\n",
    "print(\" Catálogo Vendor cargado\")"
   ]
  },
  {
   "cell_type": "code",
   "execution_count": 14,
   "id": "db094357-4c13-4265-b3b5-610f86904956",
   "metadata": {},
   "outputs": [
    {
     "name": "stdout",
     "output_type": "stream",
     "text": [
      " CREANDO CATÁLOGO: TRIP_TYPE (Green Taxi)\n",
      " Catálogo Trip Type:\n",
      "+------------+--------------+\n",
      "|trip_type_id|trip_type_desc|\n",
      "+------------+--------------+\n",
      "|1           |Street-hail   |\n",
      "|2           |Dispatch      |\n",
      "+------------+--------------+\n",
      "\n",
      " Escribiendo a ANALYTICS.TRIP_TYPE_LOOKUP...\n",
      " Catálogo Trip Type cargado\n"
     ]
    }
   ],
   "source": [
    "print(\" CREANDO CATÁLOGO: TRIP_TYPE (Green Taxi)\")\n",
    "\n",
    "# Definir catálogo según documentación NYC TLC\n",
    "trip_type_data = [\n",
    "    (1, \"Street-hail\"),\n",
    "    (2, \"Dispatch\")\n",
    "]\n",
    "\n",
    "trip_type_df = spark.createDataFrame(\n",
    "    trip_type_data,\n",
    "    [\"trip_type_id\", \"trip_type_desc\"]\n",
    ")\n",
    "\n",
    "print(\" Catálogo Trip Type:\")\n",
    "trip_type_df.show(truncate=False)\n",
    "\n",
    "# Escribir a Snowflake\n",
    "print(f\" Escribiendo a {SNOWFLAKE_SCHEMA_ANALYTICS}.TRIP_TYPE_LOOKUP...\")\n",
    "\n",
    "trip_type_df.write \\\n",
    "    .format(\"snowflake\") \\\n",
    "    .options(**sfOptions_analytics) \\\n",
    "    .option(\"dbtable\", \"TRIP_TYPE_LOOKUP\") \\\n",
    "    .mode(\"overwrite\") \\\n",
    "    .save()\n",
    "\n",
    "print(\" Catálogo Trip Type cargado\")"
   ]
  },
  {
   "cell_type": "code",
   "execution_count": 15,
   "id": "dc3b8e30-37d9-4117-84d4-3ba88d84bd12",
   "metadata": {},
   "outputs": [
    {
     "name": "stdout",
     "output_type": "stream",
     "text": [
      " VERIFICANDO TABLAS DE LOOKUP EN ANALYTICS\n",
      " TAXI_ZONES: 265 registros\n",
      " PAYMENT_TYPE_LOOKUP: 6 registros\n",
      " RATE_CODE_LOOKUP: 6 registros\n",
      " VENDOR_LOOKUP: 2 registros\n",
      " TRIP_TYPE_LOOKUP: 2 registros\n",
      "\n",
      " Verificación completada\n"
     ]
    }
   ],
   "source": [
    "print(\" VERIFICANDO TABLAS DE LOOKUP EN ANALYTICS\")\n",
    "\n",
    "lookup_tables = [\n",
    "    \"TAXI_ZONES\",\n",
    "    \"PAYMENT_TYPE_LOOKUP\",\n",
    "    \"RATE_CODE_LOOKUP\",\n",
    "    \"VENDOR_LOOKUP\",\n",
    "    \"TRIP_TYPE_LOOKUP\"\n",
    "]\n",
    "\n",
    "for table in lookup_tables:\n",
    "    try:\n",
    "        count_df = spark.read \\\n",
    "            .format(\"snowflake\") \\\n",
    "            .options(**sfOptions_analytics) \\\n",
    "            .option(\"query\", f\"SELECT COUNT(*) as COUNT FROM {table}\") \\\n",
    "            .load()\n",
    "        \n",
    "        count = count_df.collect()[0]['COUNT']\n",
    "        print(f\" {table}: {count:,} registros\")\n",
    "    except Exception as e:\n",
    "        print(f\" {table}: Error - {e}\")\n",
    "\n",
    "print(\"\\n Verificación completada\")"
   ]
  },
  {
   "cell_type": "code",
   "execution_count": 17,
   "id": "c0e89f85-d9dd-4e5f-b752-9de7a7a3a156",
   "metadata": {},
   "outputs": [
    {
     "name": "stdout",
     "output_type": "stream",
     "text": [
      " RESUMEN DE ENRIQUECIMIENTO\n",
      "\n",
      " Tablas creadas en ANALYTICS:\n",
      "  1. TAXI_ZONES - Mapeo de LocationID a Zone/Borough\n",
      "  2. PAYMENT_TYPE_LOOKUP - Descripciones de tipos de pago\n",
      "  3. RATE_CODE_LOOKUP - Descripciones de códigos de tarifa\n",
      "  4. VENDOR_LOOKUP - Nombres de vendors\n",
      "  5. TRIP_TYPE_LOOKUP - Tipos de viaje (Green)\n"
     ]
    }
   ],
   "source": [
    "print(\" RESUMEN DE ENRIQUECIMIENTO\")\n",
    "\n",
    "print(\"\\n Tablas creadas en ANALYTICS:\")\n",
    "print(\"  1. TAXI_ZONES - Mapeo de LocationID a Zone/Borough\")\n",
    "print(\"  2. PAYMENT_TYPE_LOOKUP - Descripciones de tipos de pago\")\n",
    "print(\"  3. RATE_CODE_LOOKUP - Descripciones de códigos de tarifa\")\n",
    "print(\"  4. VENDOR_LOOKUP - Nombres de vendors\")\n",
    "print(\"  5. TRIP_TYPE_LOOKUP - Tipos de viaje (Green)\")\n",
    "\n",
    "\n",
    "\n"
   ]
  },
  {
   "cell_type": "code",
   "execution_count": null,
   "id": "c04af30b-cd64-43e4-bee6-2210a96d99ea",
   "metadata": {},
   "outputs": [],
   "source": []
  }
 ],
 "metadata": {
  "kernelspec": {
   "display_name": "Python 3 (ipykernel)",
   "language": "python",
   "name": "python3"
  },
  "language_info": {
   "codemirror_mode": {
    "name": "ipython",
    "version": 3
   },
   "file_extension": ".py",
   "mimetype": "text/x-python",
   "name": "python",
   "nbconvert_exporter": "python",
   "pygments_lexer": "ipython3",
   "version": "3.11.6"
  }
 },
 "nbformat": 4,
 "nbformat_minor": 5
}
