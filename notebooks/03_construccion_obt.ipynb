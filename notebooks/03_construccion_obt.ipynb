{
 "cells": [
  {
   "cell_type": "code",
   "execution_count": 12,
   "id": "91a82e2e-a14e-4891-85c6-fd0f98e29da1",
   "metadata": {},
   "outputs": [
    {
     "name": "stdout",
     "output_type": "stream",
     "text": [
      " Imports completados\n"
     ]
    }
   ],
   "source": [
    "import os\n",
    "import sys\n",
    "from datetime import datetime\n",
    "from pyspark.sql import SparkSession\n",
    "from pyspark.sql.functions import *\n",
    "from pyspark.sql.types import *\n",
    "from pyspark.sql.window import Window\n",
    "import snowflake.connector\n",
    "\n",
    "print(\" Imports completados\")"
   ]
  },
  {
   "cell_type": "code",
   "execution_count": 13,
   "id": "99abf993-633c-4272-a160-f831c2bea1f7",
   "metadata": {},
   "outputs": [
    {
     "name": "stdout",
     "output_type": "stream",
     "text": [
      "CONFIGURACIÓN CONSTRUCCIÓN OBT\n",
      "RUN_ID: manual\n",
      "Base de datos: NYC_TLC_P03\n",
      "Schema RAW: RAW\n",
      "Schema ANALYTICS: ANALYTICS\n"
     ]
    }
   ],
   "source": [
    "SNOWFLAKE_ACCOUNT = os.getenv('SNOWFLAKE_ACCOUNT')\n",
    "SNOWFLAKE_USER = os.getenv('SNOWFLAKE_USER')\n",
    "SNOWFLAKE_PASSWORD = os.getenv('SNOWFLAKE_PASSWORD')\n",
    "SNOWFLAKE_ROLE = os.getenv('SNOWFLAKE_ROLE', 'ACCOUNTADMIN')\n",
    "SNOWFLAKE_DATABASE = os.getenv('SNOWFLAKE_DATABASE')\n",
    "SNOWFLAKE_WAREHOUSE = os.getenv('SNOWFLAKE_WAREHOUSE')\n",
    "SNOWFLAKE_SCHEMA_RAW = os.getenv('SNOWFLAKE_SCHEMA_RAW', 'RAW')\n",
    "SNOWFLAKE_SCHEMA_ANALYTICS = os.getenv('SNOWFLAKE_SCHEMA_ANALYTICS', 'ANALYTICS')\n",
    "\n",
    "RUN_ID = os.getenv('RUN_ID', f\"obt_build_{datetime.now().strftime('%Y%m%d_%H%M%S')}\")\n",
    "\n",
    "print(\"CONFIGURACIÓN CONSTRUCCIÓN OBT\")\n",
    "print(f\"RUN_ID: {RUN_ID}\")\n",
    "print(f\"Base de datos: {SNOWFLAKE_DATABASE}\")\n",
    "print(f\"Schema RAW: {SNOWFLAKE_SCHEMA_RAW}\")\n",
    "print(f\"Schema ANALYTICS: {SNOWFLAKE_SCHEMA_ANALYTICS}\")\n"
   ]
  },
  {
   "cell_type": "code",
   "execution_count": 14,
   "id": "c5e4cc2a-7077-48f5-bfb2-eb748a7f2cdf",
   "metadata": {},
   "outputs": [
    {
     "name": "stdout",
     "output_type": "stream",
     "text": [
      "\n",
      " Inicializando Spark...\n",
      " Spark 3.5.0 inicializado\n",
      " Spark UI: http://localhost:4040\n"
     ]
    }
   ],
   "source": [
    "print(\"\\n Inicializando Spark...\")\n",
    "\n",
    "spark = SparkSession.builder \\\n",
    "    .appName(\"NYC_TLC_OBT_Construction\") \\\n",
    "    .config(\"spark.jars.packages\", \n",
    "            \"net.snowflake:spark-snowflake_2.12:2.11.0-spark_3.3,\"\n",
    "            \"net.snowflake:snowflake-jdbc:3.13.30\") \\\n",
    "    .config(\"spark.sql.adaptive.enabled\", \"true\") \\\n",
    "    .config(\"spark.sql.adaptive.coalescePartitions.enabled\", \"true\") \\\n",
    "    .config(\"spark.sql.shuffle.partitions\", \"200\") \\\n",
    "    .getOrCreate()\n",
    "\n",
    "spark.sparkContext.setLogLevel(\"WARN\")\n",
    "\n",
    "print(f\" Spark {spark.version} inicializado\")\n",
    "print(f\" Spark UI: http://localhost:4040\")"
   ]
  },
  {
   "cell_type": "code",
   "execution_count": 15,
   "id": "b8d41c15-bb67-4e7e-ba43-40c5b82e9588",
   "metadata": {},
   "outputs": [
    {
     "name": "stdout",
     "output_type": "stream",
     "text": [
      " Configuraciones de Snowflake establecidas\n"
     ]
    }
   ],
   "source": [
    "sfOptions_raw = {\n",
    "    \"sfURL\": f\"{SNOWFLAKE_ACCOUNT}.snowflakecomputing.com\",\n",
    "    \"sfUser\": SNOWFLAKE_USER,\n",
    "    \"sfPassword\": SNOWFLAKE_PASSWORD,\n",
    "    \"sfDatabase\": SNOWFLAKE_DATABASE,\n",
    "    \"sfSchema\": SNOWFLAKE_SCHEMA_RAW,\n",
    "    \"sfWarehouse\": SNOWFLAKE_WAREHOUSE,\n",
    "    \"sfRole\": SNOWFLAKE_ROLE\n",
    "}\n",
    "\n",
    "# Configuración para ANALYTICS\n",
    "sfOptions_analytics = {\n",
    "    \"sfURL\": f\"{SNOWFLAKE_ACCOUNT}.snowflakecomputing.com\",\n",
    "    \"sfUser\": SNOWFLAKE_USER,\n",
    "    \"sfPassword\": SNOWFLAKE_PASSWORD,\n",
    "    \"sfDatabase\": SNOWFLAKE_DATABASE,\n",
    "    \"sfSchema\": SNOWFLAKE_SCHEMA_ANALYTICS,\n",
    "    \"sfWarehouse\": SNOWFLAKE_WAREHOUSE,\n",
    "    \"sfRole\": SNOWFLAKE_ROLE\n",
    "}\n",
    "\n",
    "print(\" Configuraciones de Snowflake establecidas\")\n"
   ]
  },
  {
   "cell_type": "code",
   "execution_count": 16,
   "id": "a25dfef4-968d-4edf-8760-47b3e244f9f3",
   "metadata": {},
   "outputs": [
    {
     "name": "stdout",
     "output_type": "stream",
     "text": [
      " CARGANDO DATOS DE RAW\n",
      " Cargando Yellow Trips...\n",
      " Yellow Trips: 772,827,410 registros\n",
      " Cargando Green Trips...\n",
      " Green Trips: 68,045,597 registros\n",
      "\n",
      " Total a procesar: 840,873,007 registros\n"
     ]
    }
   ],
   "source": [
    "print(\" CARGANDO DATOS DE RAW\")\n",
    "\n",
    "# Cargar Yellow Trips\n",
    "print(\" Cargando Yellow Trips...\")\n",
    "yellow_df = spark.read \\\n",
    "    .format(\"snowflake\") \\\n",
    "    .options(**sfOptions_raw) \\\n",
    "    .option(\"dbtable\", \"YELLOW_TRIPS\") \\\n",
    "    .load()\n",
    "\n",
    "yellow_count = yellow_df.count()\n",
    "print(f\" Yellow Trips: {yellow_count:,} registros\")\n",
    "\n",
    "# Cargar Green Trips\n",
    "print(\" Cargando Green Trips...\")\n",
    "green_df = spark.read \\\n",
    "    .format(\"snowflake\") \\\n",
    "    .options(**sfOptions_raw) \\\n",
    "    .option(\"dbtable\", \"GREEN_TRIPS\") \\\n",
    "    .load()\n",
    "\n",
    "green_count = green_df.count()\n",
    "print(f\" Green Trips: {green_count:,} registros\")\n",
    "\n",
    "print(f\"\\n Total a procesar: {yellow_count + green_count:,} registros\")\n"
   ]
  },
  {
   "cell_type": "code",
   "execution_count": 17,
   "id": "d09a2f37-9d7e-47df-b609-6d7369acec9c",
   "metadata": {},
   "outputs": [
    {
     "name": "stdout",
     "output_type": "stream",
     "text": [
      " CARGANDO TABLAS DE LOOKUP\n",
      " Cargando Taxi Zones...\n",
      "Taxi Zones: 265 zonas\n",
      " Cargando Payment Type...\n",
      " Payment Types: 6 tipos\n",
      " Cargando Rate Code...\n",
      " Rate Codes: 6 códigos\n",
      " Cargando Vendor...\n",
      " Vendors: 2 vendors\n",
      " Cargando Trip Type...\n",
      " Trip Types: 2 tipos\n",
      "\n",
      " Todas las tablas de lookup cargadas\n"
     ]
    }
   ],
   "source": [
    "print(\" CARGANDO TABLAS DE LOOKUP\")\n",
    "\n",
    "# Taxi Zones\n",
    "print(\" Cargando Taxi Zones...\")\n",
    "taxi_zones_df = spark.read \\\n",
    "    .format(\"snowflake\") \\\n",
    "    .options(**sfOptions_analytics) \\\n",
    "    .option(\"dbtable\", \"TAXI_ZONES\") \\\n",
    "    .load()\n",
    "print(f\"Taxi Zones: {taxi_zones_df.count()} zonas\")\n",
    "\n",
    "# Payment Type\n",
    "print(\" Cargando Payment Type...\")\n",
    "payment_type_df = spark.read \\\n",
    "    .format(\"snowflake\") \\\n",
    "    .options(**sfOptions_analytics) \\\n",
    "    .option(\"dbtable\", \"PAYMENT_TYPE_LOOKUP\") \\\n",
    "    .load()\n",
    "print(f\" Payment Types: {payment_type_df.count()} tipos\")\n",
    "\n",
    "# Rate Code\n",
    "print(\" Cargando Rate Code...\")\n",
    "rate_code_df = spark.read \\\n",
    "    .format(\"snowflake\") \\\n",
    "    .options(**sfOptions_analytics) \\\n",
    "    .option(\"dbtable\", \"RATE_CODE_LOOKUP\") \\\n",
    "    .load()\n",
    "print(f\" Rate Codes: {rate_code_df.count()} códigos\")\n",
    "\n",
    "# Vendor\n",
    "print(\" Cargando Vendor...\")\n",
    "vendor_df = spark.read \\\n",
    "    .format(\"snowflake\") \\\n",
    "    .options(**sfOptions_analytics) \\\n",
    "    .option(\"dbtable\", \"VENDOR_LOOKUP\") \\\n",
    "    .load()\n",
    "print(f\" Vendors: {vendor_df.count()} vendors\")\n",
    "\n",
    "# Trip Type\n",
    "print(\" Cargando Trip Type...\")\n",
    "trip_type_df = spark.read \\\n",
    "    .format(\"snowflake\") \\\n",
    "    .options(**sfOptions_analytics) \\\n",
    "    .option(\"dbtable\", \"TRIP_TYPE_LOOKUP\") \\\n",
    "    .load()\n",
    "print(f\" Trip Types: {trip_type_df.count()} tipos\")\n",
    "\n",
    "print(\"\\n Todas las tablas de lookup cargadas\")"
   ]
  },
  {
   "cell_type": "code",
   "execution_count": 18,
   "id": "fd47941c-b34e-4419-8610-7a2fa6d2ae53",
   "metadata": {},
   "outputs": [
    {
     "name": "stdout",
     "output_type": "stream",
     "text": [
      " ESTANDARIZANDO YELLOW TRIPS\n",
      " Yellow estandarizado: 772,827,410 registros\n"
     ]
    }
   ],
   "source": [
    "print(\" ESTANDARIZANDO YELLOW TRIPS\")\n",
    "\n",
    "yellow_standardized = yellow_df \\\n",
    "    .withColumnRenamed(\"tpep_pickup_datetime\", \"pickup_datetime\") \\\n",
    "    .withColumnRenamed(\"tpep_dropoff_datetime\", \"dropoff_datetime\") \\\n",
    "    .withColumn(\"trip_type\", lit(None).cast(\"integer\"))  # Yellow no tiene trip_type\n",
    "\n",
    "# Seleccionar columnas comunes\n",
    "yellow_unified = yellow_standardized.select(\n",
    "    \"pickup_datetime\",\n",
    "    \"dropoff_datetime\",\n",
    "    \"PULocationID\",\n",
    "    \"DOLocationID\",\n",
    "    \"passenger_count\",\n",
    "    \"trip_distance\",\n",
    "    \"RatecodeID\",\n",
    "    \"store_and_fwd_flag\",\n",
    "    \"payment_type\",\n",
    "    \"VendorID\",\n",
    "    \"trip_type\",\n",
    "    \"fare_amount\",\n",
    "    \"extra\",\n",
    "    \"mta_tax\",\n",
    "    \"tip_amount\",\n",
    "    \"tolls_amount\",\n",
    "    \"improvement_surcharge\",\n",
    "    \"total_amount\",\n",
    "    \"congestion_surcharge\",\n",
    "    \"Airport_fee\",\n",
    "    \"service_type\",\n",
    "    \"run_id\",\n",
    "    \"source_year\",\n",
    "    \"source_month\",\n",
    "    \"ingested_at_utc\"\n",
    ")\n",
    "\n",
    "print(f\" Yellow estandarizado: {yellow_unified.count():,} registros\")"
   ]
  },
  {
   "cell_type": "code",
   "execution_count": 19,
   "id": "c75f74d3-177d-4ac5-8bf3-11c756f556f1",
   "metadata": {},
   "outputs": [
    {
     "name": "stdout",
     "output_type": "stream",
     "text": [
      " ESTANDARIZANDO GREEN TRIPS\n",
      " Green estandarizado: 68,045,597 registros\n"
     ]
    }
   ],
   "source": [
    "print(\" ESTANDARIZANDO GREEN TRIPS\")\n",
    "\n",
    "# Renombrar columnas de Green para estandarizar\n",
    "green_standardized = green_df \\\n",
    "    .withColumnRenamed(\"lpep_pickup_datetime\", \"pickup_datetime\") \\\n",
    "    .withColumnRenamed(\"lpep_dropoff_datetime\", \"dropoff_datetime\") \\\n",
    "    .withColumn(\"Airport_fee\", lit(None).cast(\"double\"))  # Green no tiene airport_fee\n",
    "\n",
    "# Seleccionar columnas comunes\n",
    "green_unified = green_standardized.select(\n",
    "    \"pickup_datetime\",\n",
    "    \"dropoff_datetime\",\n",
    "    \"PULocationID\",\n",
    "    \"DOLocationID\",\n",
    "    \"passenger_count\",\n",
    "    \"trip_distance\",\n",
    "    \"RatecodeID\",\n",
    "    \"store_and_fwd_flag\",\n",
    "    \"payment_type\",\n",
    "    \"VendorID\",\n",
    "    \"trip_type\",\n",
    "    \"fare_amount\",\n",
    "    \"extra\",\n",
    "    \"mta_tax\",\n",
    "    \"tip_amount\",\n",
    "    \"tolls_amount\",\n",
    "    \"improvement_surcharge\",\n",
    "    \"total_amount\",\n",
    "    \"congestion_surcharge\",\n",
    "    \"Airport_fee\",\n",
    "    \"service_type\",\n",
    "    \"run_id\",\n",
    "    \"source_year\",\n",
    "    \"source_month\",\n",
    "    \"ingested_at_utc\"\n",
    ")\n",
    "\n",
    "print(f\" Green estandarizado: {green_unified.count():,} registros\")\n"
   ]
  },
  {
   "cell_type": "code",
   "execution_count": 20,
   "id": "18f98d40-1b77-45ae-879d-3d348db87793",
   "metadata": {},
   "outputs": [
    {
     "name": "stdout",
     "output_type": "stream",
     "text": [
      " UNIFICANDO YELLOW Y GREEN\n",
      " Trips unificados: 840,873,007 registros\n",
      "\n",
      "Distribución por servicio:\n",
      "+------------+---------+\n",
      "|service_type|    count|\n",
      "+------------+---------+\n",
      "|      yellow|772827410|\n",
      "|       green| 68045597|\n",
      "+------------+---------+\n",
      "\n"
     ]
    }
   ],
   "source": [
    "print(\" UNIFICANDO YELLOW Y GREEN\")\n",
    "\n",
    "# Union de ambos datasets\n",
    "trips_unified = yellow_unified.union(green_unified)\n",
    "\n",
    "unified_count = trips_unified.count()\n",
    "print(f\" Trips unificados: {unified_count:,} registros\")\n",
    "\n",
    "# Verificar distribución\n",
    "print(\"\\nDistribución por servicio:\")\n",
    "trips_unified.groupBy(\"service_type\").count().show()\n"
   ]
  },
  {
   "cell_type": "code",
   "execution_count": 21,
   "id": "6fc48981-4453-4daa-a421-7e42a76e48bf",
   "metadata": {},
   "outputs": [
    {
     "name": "stdout",
     "output_type": "stream",
     "text": [
      " AGREGANDO COLUMNAS DE TIEMPO\n",
      " Columnas de tiempo agregadas\n"
     ]
    }
   ],
   "source": [
    "print(\" AGREGANDO COLUMNAS DE TIEMPO\")\n",
    "\n",
    "trips_with_time = trips_unified \\\n",
    "    .withColumn(\"pickup_date\", to_date(\"pickup_datetime\")) \\\n",
    "    .withColumn(\"pickup_hour\", hour(\"pickup_datetime\")) \\\n",
    "    .withColumn(\"dropoff_date\", to_date(\"dropoff_datetime\")) \\\n",
    "    .withColumn(\"dropoff_hour\", hour(\"dropoff_datetime\")) \\\n",
    "    .withColumn(\"day_of_week\", date_format(\"pickup_datetime\", \"EEEE\")) \\\n",
    "    .withColumn(\"month\", month(\"pickup_datetime\")) \\\n",
    "    .withColumn(\"year\", year(\"pickup_datetime\"))\n",
    "\n",
    "print(\" Columnas de tiempo agregadas\")"
   ]
  },
  {
   "cell_type": "code",
   "execution_count": 22,
   "id": "0c691652-8e08-4845-b2ae-5e9f4b66a0bd",
   "metadata": {},
   "outputs": [
    {
     "name": "stdout",
     "output_type": "stream",
     "text": [
      "CALCULANDO MÉTRICAS DERIVADAS\n",
      " Métricas derivadas calculadas:\n",
      "  - trip_duration_min: duración del viaje en minutos\n",
      "  - avg_speed_mph: velocidad promedio en mph\n",
      "  - tip_pct: porcentaje de propina sobre fare_amount\n"
     ]
    }
   ],
   "source": [
    "\n",
    "\n",
    "\n",
    "print(\"CALCULANDO MÉTRICAS DERIVADAS\")\n",
    "\n",
    "\n",
    "trips_with_metrics = trips_with_time \\\n",
    "    .withColumn(\"trip_duration_min\", \n",
    "                (unix_timestamp(\"dropoff_datetime\") - unix_timestamp(\"pickup_datetime\")) / 60.0) \\\n",
    "    .withColumn(\"avg_speed_mph\", \n",
    "                when((col(\"trip_duration_min\") > 0) & (col(\"trip_distance\") > 0),\n",
    "                     (col(\"trip_distance\") / col(\"trip_duration_min\")) * 60)\n",
    "                .otherwise(None)) \\\n",
    "    .withColumn(\"tip_pct\",\n",
    "                when((col(\"fare_amount\") > 0) & (col(\"tip_amount\").isNotNull()),\n",
    "                     (col(\"tip_amount\") / col(\"fare_amount\")) * 100)\n",
    "                .otherwise(0))\n",
    "\n",
    "print(\" Métricas derivadas calculadas:\")\n",
    "print(\"  - trip_duration_min: duración del viaje en minutos\")\n",
    "print(\"  - avg_speed_mph: velocidad promedio en mph\")\n",
    "print(\"  - tip_pct: porcentaje de propina sobre fare_amount\")"
   ]
  },
  {
   "cell_type": "code",
   "execution_count": 23,
   "id": "9b410ea8-8964-4e92-9480-6b0f2096c02b",
   "metadata": {},
   "outputs": [
    {
     "name": "stdout",
     "output_type": "stream",
     "text": [
      " ENRIQUECIENDO CON ZONAS DE PICKUP\n",
      " Zonas de pickup agregadas\n"
     ]
    }
   ],
   "source": [
    "\n",
    "print(\" ENRIQUECIENDO CON ZONAS DE PICKUP\")\n",
    "\n",
    "# Preparar zonas de pickup\n",
    "taxi_zones_pu = taxi_zones_df.select(\n",
    "    col(\"LocationID\").alias(\"pu_location_id_join\"),\n",
    "    col(\"Zone\").alias(\"pu_zone\"),\n",
    "    col(\"Borough\").alias(\"pu_borough\")\n",
    ")\n",
    "\n",
    "# Join con pickup zones\n",
    "trips_with_pu = trips_with_metrics.join(\n",
    "    taxi_zones_pu,\n",
    "    trips_with_metrics.PULocationID == taxi_zones_pu.pu_location_id_join,\n",
    "    \"left\"\n",
    ").drop(\"pu_location_id_join\")\n",
    "\n",
    "print(\" Zonas de pickup agregadas\")"
   ]
  },
  {
   "cell_type": "code",
   "execution_count": 24,
   "id": "830b6656-840e-4d73-a957-f3c94d6c5008",
   "metadata": {},
   "outputs": [
    {
     "name": "stdout",
     "output_type": "stream",
     "text": [
      " ENRIQUECIENDO CON ZONAS DE DROPOFF\n",
      "Zonas de dropoff agregadas\n"
     ]
    }
   ],
   "source": [
    "\n",
    "\n",
    "print(\" ENRIQUECIENDO CON ZONAS DE DROPOFF\")\n",
    "\n",
    "# Preparar zonas de dropoff\n",
    "taxi_zones_do = taxi_zones_df.select(\n",
    "    col(\"LocationID\").alias(\"do_location_id_join\"),\n",
    "    col(\"Zone\").alias(\"do_zone\"),\n",
    "    col(\"Borough\").alias(\"do_borough\")\n",
    ")\n",
    "\n",
    "# Join con dropoff zones\n",
    "trips_with_zones = trips_with_pu.join(\n",
    "    taxi_zones_do,\n",
    "    trips_with_pu.DOLocationID == taxi_zones_do.do_location_id_join,\n",
    "    \"left\"\n",
    ").drop(\"do_location_id_join\")\n",
    "\n",
    "print(\"Zonas de dropoff agregadas\")"
   ]
  },
  {
   "cell_type": "code",
   "execution_count": 25,
   "id": "6b92585a-95ed-4422-b262-b69dd8217bf4",
   "metadata": {},
   "outputs": [
    {
     "name": "stdout",
     "output_type": "stream",
     "text": [
      " ENRIQUECIENDO CON CATÁLOGOS\n",
      " Agregando vendor_name...\n",
      " Agregando payment_type_desc...\n",
      " Agregando rate_code_desc...\n",
      " Agregando trip_type_desc...\n",
      "Todos los catálogos agregados\n"
     ]
    }
   ],
   "source": [
    "print(\" ENRIQUECIENDO CON CATÁLOGOS\")\n",
    "\n",
    "# Join con Vendor\n",
    "print(\" Agregando vendor_name...\")\n",
    "trips_enriched = trips_with_zones.alias(\"t\") \\\n",
    "    .join(\n",
    "        vendor_df.select(\n",
    "            col(\"vendor_id\").alias(\"vendor_id_join\"),\n",
    "            col(\"vendor_name\")\n",
    "        ),\n",
    "        col(\"t.VendorID\") == col(\"vendor_id_join\"),\n",
    "        \"left\"\n",
    "    ) \\\n",
    "    .drop(\"vendor_id_join\")\n",
    "\n",
    "# Join con Payment Type\n",
    "print(\" Agregando payment_type_desc...\")\n",
    "trips_enriched = trips_enriched.alias(\"t\") \\\n",
    "    .join(\n",
    "        payment_type_df.select(\n",
    "            col(\"payment_type_id\").alias(\"payment_type_id_join\"),\n",
    "            col(\"payment_type_desc\")\n",
    "        ),\n",
    "        col(\"t.payment_type\") == col(\"payment_type_id_join\"),\n",
    "        \"left\"\n",
    "    ) \\\n",
    "    .drop(\"payment_type_id_join\")\n",
    "\n",
    "# Join con Rate Code\n",
    "print(\" Agregando rate_code_desc...\")\n",
    "trips_enriched = trips_enriched.alias(\"t\") \\\n",
    "    .join(\n",
    "        rate_code_df.select(\n",
    "            col(\"rate_code_id\").alias(\"rate_code_id_join\"),\n",
    "            col(\"rate_code_desc\")\n",
    "        ),\n",
    "        col(\"t.RatecodeID\") == col(\"rate_code_id_join\"),\n",
    "        \"left\"\n",
    "    ) \\\n",
    "    .drop(\"rate_code_id_join\")\n",
    "\n",
    "# Join con Trip Type (solo para Green)\n",
    "print(\" Agregando trip_type_desc...\")\n",
    "trips_enriched = trips_enriched.alias(\"t\") \\\n",
    "    .join(\n",
    "        trip_type_df.select(\n",
    "            col(\"trip_type_id\").alias(\"trip_type_id_join\"),\n",
    "            col(\"trip_type_desc\")\n",
    "        ),\n",
    "        col(\"t.trip_type\") == col(\"trip_type_id_join\"),\n",
    "        \"left\"\n",
    "    ) \\\n",
    "    .drop(\"trip_type_id_join\")\n",
    "\n",
    "print(\"Todos los catálogos agregados\")"
   ]
  },
  {
   "cell_type": "code",
   "execution_count": 26,
   "id": "828e4e2f-e081-4f0b-ac6d-a31ed9e928f6",
   "metadata": {},
   "outputs": [
    {
     "name": "stdout",
     "output_type": "stream",
     "text": [
      " CREANDO ESTRUCTURA FINAL DE LA OBT\n",
      " Estructura OBT definida\n",
      "Total columnas: 45\n",
      " Saltando .show() para evitar crash de memoria\n",
      "   (Verificaremos los datos después de escribir a Snowflake)\n"
     ]
    }
   ],
   "source": [
    "\n",
    "\n",
    "print(\" CREANDO ESTRUCTURA FINAL DE LA OBT\")\n",
    "\n",
    "obt_trips = trips_enriched.select(\n",
    "    \n",
    "    md5(concat_ws(\"_\", \n",
    "                  col(\"pickup_datetime\").cast(\"string\"),\n",
    "                  col(\"PULocationID\").cast(\"string\"),\n",
    "                  col(\"DOLocationID\").cast(\"string\"),\n",
    "                  col(\"VendorID\").cast(\"string\"))).alias(\"trip_id\"),\n",
    "    \n",
    "    # Tiempo\n",
    "    \"pickup_datetime\",\n",
    "    \"dropoff_datetime\",\n",
    "    \"pickup_date\",\n",
    "    \"pickup_hour\",\n",
    "    \"dropoff_date\",\n",
    "    \"dropoff_hour\",\n",
    "    \"day_of_week\",\n",
    "    \"month\",\n",
    "    \"year\",\n",
    "    \n",
    "    # Ubicación Pickup\n",
    "    col(\"PULocationID\").alias(\"pu_location_id\"),\n",
    "    \"pu_zone\",\n",
    "    \"pu_borough\",\n",
    "    \n",
    "    # Ubicación Dropoff\n",
    "    col(\"DOLocationID\").alias(\"do_location_id\"),\n",
    "    \"do_zone\",\n",
    "    \"do_borough\",\n",
    "    \n",
    "    # Servicio y códigos\n",
    "    \"service_type\",\n",
    "    col(\"VendorID\").alias(\"vendor_id\"),\n",
    "    \"vendor_name\",\n",
    "    col(\"RatecodeID\").alias(\"rate_code_id\"),\n",
    "    \"rate_code_desc\",\n",
    "    \"payment_type\",\n",
    "    \"payment_type_desc\",\n",
    "    \"trip_type\",\n",
    "    \"trip_type_desc\",\n",
    "    \n",
    "    # Viaje\n",
    "    \"passenger_count\",\n",
    "    \"trip_distance\",\n",
    "    \"store_and_fwd_flag\",\n",
    "    \n",
    "    # Tarifas\n",
    "    \"fare_amount\",\n",
    "    \"extra\",\n",
    "    \"mta_tax\",\n",
    "    \"tip_amount\",\n",
    "    \"tolls_amount\",\n",
    "    \"improvement_surcharge\",\n",
    "    \"congestion_surcharge\",\n",
    "    \"Airport_fee\",\n",
    "    \"total_amount\",\n",
    "    \n",
    "    # Métricas derivadas\n",
    "    \"trip_duration_min\",\n",
    "    \"avg_speed_mph\",\n",
    "    \"tip_pct\",\n",
    "    \n",
    "    # Lineage y calidad\n",
    "    \"run_id\",\n",
    "    \"ingested_at_utc\",\n",
    "    col(\"service_type\").alias(\"source_service\"),\n",
    "    \"source_year\",\n",
    "    \"source_month\"\n",
    ")\n",
    "\n",
    "print(\" Estructura OBT definida\")\n",
    "print(f\"Total columnas: {len(obt_trips.columns)}\")\n",
    "print(\" Saltando .show() para evitar crash de memoria\")\n",
    "print(\"   (Verificaremos los datos después de escribir a Snowflake)\")"
   ]
  },
  {
   "cell_type": "code",
   "execution_count": 27,
   "id": "755dfd9d-c845-4ef8-b3d1-a157089d00f8",
   "metadata": {},
   "outputs": [
    {
     "name": "stdout",
     "output_type": "stream",
     "text": [
      " APLICANDO FILTROS DE CALIDAD\n",
      "Registros iniciales: 840,873,007\n",
      " Registros después de limpieza: 837,099,213\n",
      " Registros descartados: 3,773,794 (0.45%)\n"
     ]
    }
   ],
   "source": [
    "print(\" APLICANDO FILTROS DE CALIDAD\")\n",
    "\n",
    "initial_count = obt_trips.count()\n",
    "print(f\"Registros iniciales: {initial_count:,}\")\n",
    "\n",
    "# Filtrar registros con datos básicos válidos\n",
    "obt_cleaned = obt_trips.filter(\n",
    "    (col(\"pickup_datetime\").isNotNull()) &\n",
    "    (col(\"dropoff_datetime\").isNotNull()) &\n",
    "    (col(\"pu_location_id\").isNotNull()) &\n",
    "    (col(\"do_location_id\").isNotNull()) &\n",
    "    (col(\"trip_duration_min\") > 0) &\n",
    "    (col(\"trip_duration_min\") < 1440) &  # Menos de 24 horas\n",
    "    (col(\"trip_distance\") >= 0) &\n",
    "    (col(\"trip_distance\") < 500) &  # Menos de 500 millas\n",
    "    (col(\"total_amount\") >= 0) &\n",
    "    (col(\"total_amount\") < 10000)  # Menos de $10,000\n",
    ")\n",
    "\n",
    "cleaned_count = obt_cleaned.count()\n",
    "discarded = initial_count - cleaned_count\n",
    "\n",
    "print(f\" Registros después de limpieza: {cleaned_count:,}\")\n",
    "print(f\" Registros descartados: {discarded:,} ({(discarded/initial_count*100):.2f}%)\")\n"
   ]
  },
  {
   "cell_type": "code",
   "execution_count": 28,
   "id": "2f25f03a-fee6-4a12-af1e-3b3d7b39e67c",
   "metadata": {},
   "outputs": [
    {
     "name": "stdout",
     "output_type": "stream",
     "text": [
      " APLICANDO IDEMPOTENCIA\n",
      " Tabla OBT_TRIPS truncada (rebuild completo)\n"
     ]
    }
   ],
   "source": [
    "print(\" APLICANDO IDEMPOTENCIA\")\n",
    "\n",
    "try:\n",
    "    conn = snowflake.connector.connect(\n",
    "        account=SNOWFLAKE_ACCOUNT,\n",
    "        user=SNOWFLAKE_USER,\n",
    "        password=SNOWFLAKE_PASSWORD,\n",
    "        role=SNOWFLAKE_ROLE,\n",
    "        warehouse=SNOWFLAKE_WAREHOUSE,\n",
    "        database=SNOWFLAKE_DATABASE,\n",
    "        schema=SNOWFLAKE_SCHEMA_ANALYTICS\n",
    "    )\n",
    "    \n",
    "    cursor = conn.cursor()\n",
    "    \n",
    "    # Truncar tabla OBT_TRIPS si existe\n",
    "    truncate_sql = \"TRUNCATE TABLE IF EXISTS OBT_TRIPS\"\n",
    "    cursor.execute(truncate_sql)\n",
    "    \n",
    "    cursor.close()\n",
    "    conn.close()\n",
    "    \n",
    "    print(\" Tabla OBT_TRIPS truncada (rebuild completo)\")\n",
    "    \n",
    "except Exception as e:\n",
    "    print(f\"  No se pudo truncar: {e}\")\n",
    "    print(\"  (Probablemente es la primera ejecución)\")"
   ]
  },
  {
   "cell_type": "code",
   "execution_count": 29,
   "id": "7bfc2434-ab92-4d3a-8607-4ecc0e4c55dc",
   "metadata": {},
   "outputs": [
    {
     "name": "stdout",
     "output_type": "stream",
     "text": [
      " ESCRIBIENDO OBT A SNOWFLAKE\n",
      " Escribiendo 837,099,213 registros...\n",
      "   Esto puede tardar varios minutos...\n",
      " OBT_TRIPS creada exitosamente!\n",
      "  Tiempo de escritura: 192.95 minutos\n"
     ]
    }
   ],
   "source": [
    "print(\" ESCRIBIENDO OBT A SNOWFLAKE\")\n",
    "print(f\" Escribiendo {cleaned_count:,} registros...\")\n",
    "print(\"   Esto puede tardar varios minutos...\")\n",
    "\n",
    "start_write = datetime.now()\n",
    "\n",
    "obt_cleaned.write \\\n",
    "    .format(\"snowflake\") \\\n",
    "    .options(**sfOptions_analytics) \\\n",
    "    .option(\"dbtable\", \"OBT_TRIPS\") \\\n",
    "    .mode(\"append\") \\\n",
    "    .save()\n",
    "\n",
    "end_write = datetime.now()\n",
    "duration_write = (end_write - start_write).total_seconds()\n",
    "\n",
    "print(f\" OBT_TRIPS creada exitosamente!\")\n",
    "print(f\"  Tiempo de escritura: {duration_write/60:.2f} minutos\")\n"
   ]
  },
  {
   "cell_type": "code",
   "execution_count": 30,
   "id": "6b7e6f84-f190-49ec-998d-cf767684071e",
   "metadata": {},
   "outputs": [
    {
     "name": "stdout",
     "output_type": "stream",
     "text": [
      " VERIFICANDO OBT EN SNOWFLAKE\n",
      " Registros en OBT_TRIPS: 837,099,213\n",
      "\n",
      " Distribución por servicio:\n",
      "+------------+---------+----------+\n",
      "|SERVICE_TYPE|REGISTROS|AVG_AMOUNT|\n",
      "+------------+---------+----------+\n",
      "|       green| 67814741|     15.79|\n",
      "|      yellow|769284472|      18.8|\n",
      "+------------+---------+----------+\n",
      "\n",
      "\n",
      " Distribución por año:\n",
      "+----+---------+\n",
      "|YEAR|REGISTROS|\n",
      "+----+---------+\n",
      "|2001|       27|\n",
      "|2002|      351|\n",
      "|2003|       49|\n",
      "|2004|        1|\n",
      "|2007|        1|\n",
      "|2008|      872|\n",
      "|2009|     1594|\n",
      "|2010|      347|\n",
      "|2011|        4|\n",
      "|2012|        4|\n",
      "|2014|        1|\n",
      "|2015|153459929|\n",
      "|2016|147273641|\n",
      "|2017|125039468|\n",
      "|2018|111583125|\n",
      "|2019| 90587494|\n",
      "|2020| 26242711|\n",
      "|2021| 31766496|\n",
      "|2022| 40202520|\n",
      "|2023| 38699863|\n",
      "+----+---------+\n",
      "only showing top 20 rows\n",
      "\n",
      "\n",
      " Verificación completada\n"
     ]
    }
   ],
   "source": [
    "print(\" VERIFICANDO OBT EN SNOWFLAKE\")\n",
    "\n",
    "obt_count = spark.read \\\n",
    "    .format(\"snowflake\") \\\n",
    "    .options(**sfOptions_analytics) \\\n",
    "    .option(\"query\", \"SELECT COUNT(*) as COUNT FROM OBT_TRIPS\") \\\n",
    "    .load() \\\n",
    "    .collect()[0]['COUNT']\n",
    "\n",
    "print(f\" Registros en OBT_TRIPS: {obt_count:,}\")\n",
    "\n",
    "print(\"\\n Distribución por servicio:\")\n",
    "service_dist = spark.read \\\n",
    "    .format(\"snowflake\") \\\n",
    "    .options(**sfOptions_analytics) \\\n",
    "    .option(\"query\", \"\"\"\n",
    "        SELECT \n",
    "            service_type,\n",
    "            COUNT(*) as REGISTROS,\n",
    "            ROUND(AVG(total_amount), 2) as AVG_AMOUNT\n",
    "        FROM OBT_TRIPS\n",
    "        GROUP BY service_type\n",
    "    \"\"\") \\\n",
    "    .load()\n",
    "\n",
    "service_dist.show()\n",
    "\n",
    "# Verificar años cargados\n",
    "print(\"\\n Distribución por año:\")\n",
    "year_dist = spark.read \\\n",
    "    .format(\"snowflake\") \\\n",
    "    .options(**sfOptions_analytics) \\\n",
    "    .option(\"query\", \"\"\"\n",
    "        SELECT \n",
    "            year,\n",
    "            COUNT(*) as REGISTROS\n",
    "        FROM OBT_TRIPS\n",
    "        GROUP BY year\n",
    "        ORDER BY year\n",
    "    \"\"\") \\\n",
    "    .load()\n",
    "\n",
    "year_dist.show()\n",
    "\n",
    "print(\"\\n Verificación completada\")"
   ]
  },
  {
   "cell_type": "code",
   "execution_count": 33,
   "id": "797ce2d0-d2ac-4179-99d1-eaa73aaf4bd7",
   "metadata": {
    "scrolled": true
   },
   "outputs": [
    {
     "name": "stdout",
     "output_type": "stream",
     "text": [
      " RESUMEN DE CONSTRUCCIÓN OBT\n",
      "\n",
      "OBT_TRIPS creada exitosamente\n",
      "   Total registros: 837,099,213\n",
      "   Tiempo total de escritura: 192.95 minutos\n",
      "\n",
      " Estructura de la OBT:\n",
      "   - Grano: 1 fila = 1 viaje\n",
      "   - Servicios: Yellow + Green unificados\n",
      "   - Enriquecida con: zonas, vendors, payment types, rate codes\n",
      "   - Columnas derivadas: duración, velocidad, tip%\n",
      "   - Filtros de calidad aplicados\n"
     ]
    }
   ],
   "source": [
    "print(\" RESUMEN DE CONSTRUCCIÓN OBT\")\n",
    "\n",
    "print(f\"\\nOBT_TRIPS creada exitosamente\")\n",
    "print(f\"   Total registros: {obt_count:,}\")\n",
    "print(f\"   Tiempo total de escritura: {duration_write/60:.2f} minutos\")\n",
    "\n",
    "print(f\"\\n Estructura de la OBT:\")\n",
    "print(f\"   - Grano: 1 fila = 1 viaje\")\n",
    "print(f\"   - Servicios: Yellow + Green unificados\")\n",
    "print(f\"   - Enriquecida con: zonas, vendors, payment types, rate codes\")\n",
    "print(f\"   - Columnas derivadas: duración, velocidad, tip%\")\n",
    "print(f\"   - Filtros de calidad aplicados\")\n",
    "\n",
    "\n"
   ]
  },
  {
   "cell_type": "code",
   "execution_count": null,
   "id": "cddbaf90-d1a3-4a98-83f3-f7605ade8c42",
   "metadata": {},
   "outputs": [],
   "source": []
  }
 ],
 "metadata": {
  "kernelspec": {
   "display_name": "Python 3 (ipykernel)",
   "language": "python",
   "name": "python3"
  },
  "language_info": {
   "codemirror_mode": {
    "name": "ipython",
    "version": 3
   },
   "file_extension": ".py",
   "mimetype": "text/x-python",
   "name": "python",
   "nbconvert_exporter": "python",
   "pygments_lexer": "ipython3",
   "version": "3.11.6"
  }
 },
 "nbformat": 4,
 "nbformat_minor": 5
}
